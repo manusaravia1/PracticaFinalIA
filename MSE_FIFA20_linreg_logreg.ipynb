{
  "nbformat": 4,
  "nbformat_minor": 0,
  "metadata": {
    "kernelspec": {
      "display_name": "Python 3",
      "language": "python",
      "name": "python3"
    },
    "language_info": {
      "codemirror_mode": {
        "name": "ipython",
        "version": 3
      },
      "file_extension": ".py",
      "mimetype": "text/x-python",
      "name": "python",
      "nbconvert_exporter": "python",
      "pygments_lexer": "ipython3",
      "version": "3.7.6"
    },
    "colab": {
      "name": "FIFA20_linreg_logreg.ipynb",
      "provenance": [],
      "collapsed_sections": []
    }
  },
  "cells": [
    {
      "cell_type": "markdown",
      "metadata": {
        "id": "DuDWdvShRYuA"
      },
      "source": [
        "#**Práctica IA - Manuel Saravia Enrech, INSO4Z**\n"
      ]
    },
    {
      "cell_type": "markdown",
      "metadata": {
        "id": "NJL3_xuHVw0p"
      },
      "source": [
        "El dataset elegido nos da informacion sobre los futbolistas que aparecen en el videojuego FIFA 20. Incluye  variables numéricas como caracteristicas o sueldo, y variables categóricas como el club o la nacionalidad. El dataset contiene más de 18 mil registros (futbolistas) con más de 100 variables cada uno. <br>\n",
        "El objetivo es hacer predicciones sobre la variable precio del jugador usando un subconjunto de variables significativas del dataset. <br>\n",
        "Considero que es una propuesta interesante para el mundo de los datos aplicado al negocio del deporte profesional. El uso del machine learning o la inteligencia artificial en este campo es cada día más demandado. <br>\n",
        "Poder estimar el precio de mercado de un jugador o bien al menos poder categorizar su rango de precio es muy relevante para la actividad de compraventa de jugadores, no solo para clubes de fútbol sino que también en muchos casos son objeto de inversión por parte de fondos que adquieren los derechos (o un porcentaje) de jugadores. \n"
      ]
    },
    {
      "cell_type": "markdown",
      "metadata": {
        "id": "IMIp3m3hDiiX"
      },
      "source": [
        "# **Parte 1 - Modelo de regresión.**\n",
        "\n",
        "El objetivo es estimar la variable precio del futbolista con vistas a una posible transacción de compraventa."
      ]
    },
    {
      "cell_type": "code",
      "metadata": {
        "id": "lNCZ_bXjVp93"
      },
      "source": [
        "import pandas as pd\n",
        "import numpy as np\n",
        "import matplotlib.pyplot as plt\n",
        "%matplotlib inline"
      ],
      "execution_count": 321,
      "outputs": []
    },
    {
      "cell_type": "markdown",
      "metadata": {
        "id": "3Rf01w5sDTzh"
      },
      "source": [
        "## PASO 1: Carga del dataset"
      ]
    },
    {
      "cell_type": "code",
      "metadata": {
        "colab": {
          "base_uri": "https://localhost:8080/",
          "height": 0
        },
        "id": "0R9iDQM9TVWO",
        "outputId": "029b9a02-749e-408d-aaae-a21c78038e61"
      },
      "source": [
        "# Uso Google Colab notebooks y mi unidad Drive para ubicar el dataset\n",
        "from google.colab import drive\n",
        "drive.mount('/content/drive')"
      ],
      "execution_count": 322,
      "outputs": [
        {
          "output_type": "stream",
          "text": [
            "Drive already mounted at /content/drive; to attempt to forcibly remount, call drive.mount(\"/content/drive\", force_remount=True).\n"
          ],
          "name": "stdout"
        }
      ]
    },
    {
      "cell_type": "code",
      "metadata": {
        "colab": {
          "base_uri": "https://localhost:8080/",
          "height": 491
        },
        "id": "ySy5cQ9VRYuA",
        "outputId": "250aadd9-1d10-4749-940a-34b1d8e3b16a"
      },
      "source": [
        "# carga del dataset en un Dataframe panda, y primer vistazo a los datos\n",
        "df = pd.read_csv('/content/drive/My Drive/data/players_20.csv', sep = \",\")\n",
        "df.head()"
      ],
      "execution_count": 323,
      "outputs": [
        {
          "output_type": "execute_result",
          "data": {
            "text/html": [
              "<div>\n",
              "<style scoped>\n",
              "    .dataframe tbody tr th:only-of-type {\n",
              "        vertical-align: middle;\n",
              "    }\n",
              "\n",
              "    .dataframe tbody tr th {\n",
              "        vertical-align: top;\n",
              "    }\n",
              "\n",
              "    .dataframe thead th {\n",
              "        text-align: right;\n",
              "    }\n",
              "</style>\n",
              "<table border=\"1\" class=\"dataframe\">\n",
              "  <thead>\n",
              "    <tr style=\"text-align: right;\">\n",
              "      <th></th>\n",
              "      <th>sofifa_id</th>\n",
              "      <th>player_url</th>\n",
              "      <th>short_name</th>\n",
              "      <th>long_name</th>\n",
              "      <th>age</th>\n",
              "      <th>dob</th>\n",
              "      <th>height_cm</th>\n",
              "      <th>weight_kg</th>\n",
              "      <th>nationality</th>\n",
              "      <th>club</th>\n",
              "      <th>overall</th>\n",
              "      <th>potential</th>\n",
              "      <th>value_eur</th>\n",
              "      <th>wage_eur</th>\n",
              "      <th>player_positions</th>\n",
              "      <th>preferred_foot</th>\n",
              "      <th>international_reputation</th>\n",
              "      <th>weak_foot</th>\n",
              "      <th>skill_moves</th>\n",
              "      <th>work_rate</th>\n",
              "      <th>body_type</th>\n",
              "      <th>real_face</th>\n",
              "      <th>release_clause_eur</th>\n",
              "      <th>player_tags</th>\n",
              "      <th>team_position</th>\n",
              "      <th>team_jersey_number</th>\n",
              "      <th>loaned_from</th>\n",
              "      <th>joined</th>\n",
              "      <th>contract_valid_until</th>\n",
              "      <th>nation_position</th>\n",
              "      <th>nation_jersey_number</th>\n",
              "      <th>pace</th>\n",
              "      <th>shooting</th>\n",
              "      <th>passing</th>\n",
              "      <th>dribbling</th>\n",
              "      <th>defending</th>\n",
              "      <th>physic</th>\n",
              "      <th>gk_diving</th>\n",
              "      <th>gk_handling</th>\n",
              "      <th>gk_kicking</th>\n",
              "      <th>...</th>\n",
              "      <th>mentality_aggression</th>\n",
              "      <th>mentality_interceptions</th>\n",
              "      <th>mentality_positioning</th>\n",
              "      <th>mentality_vision</th>\n",
              "      <th>mentality_penalties</th>\n",
              "      <th>mentality_composure</th>\n",
              "      <th>defending_marking</th>\n",
              "      <th>defending_standing_tackle</th>\n",
              "      <th>defending_sliding_tackle</th>\n",
              "      <th>goalkeeping_diving</th>\n",
              "      <th>goalkeeping_handling</th>\n",
              "      <th>goalkeeping_kicking</th>\n",
              "      <th>goalkeeping_positioning</th>\n",
              "      <th>goalkeeping_reflexes</th>\n",
              "      <th>ls</th>\n",
              "      <th>st</th>\n",
              "      <th>rs</th>\n",
              "      <th>lw</th>\n",
              "      <th>lf</th>\n",
              "      <th>cf</th>\n",
              "      <th>rf</th>\n",
              "      <th>rw</th>\n",
              "      <th>lam</th>\n",
              "      <th>cam</th>\n",
              "      <th>ram</th>\n",
              "      <th>lm</th>\n",
              "      <th>lcm</th>\n",
              "      <th>cm</th>\n",
              "      <th>rcm</th>\n",
              "      <th>rm</th>\n",
              "      <th>lwb</th>\n",
              "      <th>ldm</th>\n",
              "      <th>cdm</th>\n",
              "      <th>rdm</th>\n",
              "      <th>rwb</th>\n",
              "      <th>lb</th>\n",
              "      <th>lcb</th>\n",
              "      <th>cb</th>\n",
              "      <th>rcb</th>\n",
              "      <th>rb</th>\n",
              "    </tr>\n",
              "  </thead>\n",
              "  <tbody>\n",
              "    <tr>\n",
              "      <th>0</th>\n",
              "      <td>158023</td>\n",
              "      <td>https://sofifa.com/player/158023/lionel-messi/...</td>\n",
              "      <td>L. Messi</td>\n",
              "      <td>Lionel Andrés Messi Cuccittini</td>\n",
              "      <td>32</td>\n",
              "      <td>1987-06-24</td>\n",
              "      <td>170</td>\n",
              "      <td>72</td>\n",
              "      <td>Argentina</td>\n",
              "      <td>FC Barcelona</td>\n",
              "      <td>94</td>\n",
              "      <td>94</td>\n",
              "      <td>95500000</td>\n",
              "      <td>565000</td>\n",
              "      <td>RW, CF, ST</td>\n",
              "      <td>Left</td>\n",
              "      <td>5</td>\n",
              "      <td>4</td>\n",
              "      <td>4</td>\n",
              "      <td>Medium/Low</td>\n",
              "      <td>Messi</td>\n",
              "      <td>Yes</td>\n",
              "      <td>195800000.0</td>\n",
              "      <td>#Dribbler, #Distance Shooter, #Crosser, #FK Sp...</td>\n",
              "      <td>RW</td>\n",
              "      <td>10.0</td>\n",
              "      <td>NaN</td>\n",
              "      <td>2004-07-01</td>\n",
              "      <td>2021.0</td>\n",
              "      <td>NaN</td>\n",
              "      <td>NaN</td>\n",
              "      <td>87.0</td>\n",
              "      <td>92.0</td>\n",
              "      <td>92.0</td>\n",
              "      <td>96.0</td>\n",
              "      <td>39.0</td>\n",
              "      <td>66.0</td>\n",
              "      <td>NaN</td>\n",
              "      <td>NaN</td>\n",
              "      <td>NaN</td>\n",
              "      <td>...</td>\n",
              "      <td>48</td>\n",
              "      <td>40</td>\n",
              "      <td>94</td>\n",
              "      <td>94</td>\n",
              "      <td>75</td>\n",
              "      <td>96</td>\n",
              "      <td>33</td>\n",
              "      <td>37</td>\n",
              "      <td>26</td>\n",
              "      <td>6</td>\n",
              "      <td>11</td>\n",
              "      <td>15</td>\n",
              "      <td>14</td>\n",
              "      <td>8</td>\n",
              "      <td>89+2</td>\n",
              "      <td>89+2</td>\n",
              "      <td>89+2</td>\n",
              "      <td>93+2</td>\n",
              "      <td>93+2</td>\n",
              "      <td>93+2</td>\n",
              "      <td>93+2</td>\n",
              "      <td>93+2</td>\n",
              "      <td>93+2</td>\n",
              "      <td>93+2</td>\n",
              "      <td>93+2</td>\n",
              "      <td>92+2</td>\n",
              "      <td>87+2</td>\n",
              "      <td>87+2</td>\n",
              "      <td>87+2</td>\n",
              "      <td>92+2</td>\n",
              "      <td>68+2</td>\n",
              "      <td>66+2</td>\n",
              "      <td>66+2</td>\n",
              "      <td>66+2</td>\n",
              "      <td>68+2</td>\n",
              "      <td>63+2</td>\n",
              "      <td>52+2</td>\n",
              "      <td>52+2</td>\n",
              "      <td>52+2</td>\n",
              "      <td>63+2</td>\n",
              "    </tr>\n",
              "    <tr>\n",
              "      <th>1</th>\n",
              "      <td>20801</td>\n",
              "      <td>https://sofifa.com/player/20801/c-ronaldo-dos-...</td>\n",
              "      <td>Cristiano Ronaldo</td>\n",
              "      <td>Cristiano Ronaldo dos Santos Aveiro</td>\n",
              "      <td>34</td>\n",
              "      <td>1985-02-05</td>\n",
              "      <td>187</td>\n",
              "      <td>83</td>\n",
              "      <td>Portugal</td>\n",
              "      <td>Juventus</td>\n",
              "      <td>93</td>\n",
              "      <td>93</td>\n",
              "      <td>58500000</td>\n",
              "      <td>405000</td>\n",
              "      <td>ST, LW</td>\n",
              "      <td>Right</td>\n",
              "      <td>5</td>\n",
              "      <td>4</td>\n",
              "      <td>5</td>\n",
              "      <td>High/Low</td>\n",
              "      <td>C. Ronaldo</td>\n",
              "      <td>Yes</td>\n",
              "      <td>96500000.0</td>\n",
              "      <td>#Speedster, #Dribbler, #Distance Shooter, #Acr...</td>\n",
              "      <td>LW</td>\n",
              "      <td>7.0</td>\n",
              "      <td>NaN</td>\n",
              "      <td>2018-07-10</td>\n",
              "      <td>2022.0</td>\n",
              "      <td>LS</td>\n",
              "      <td>7.0</td>\n",
              "      <td>90.0</td>\n",
              "      <td>93.0</td>\n",
              "      <td>82.0</td>\n",
              "      <td>89.0</td>\n",
              "      <td>35.0</td>\n",
              "      <td>78.0</td>\n",
              "      <td>NaN</td>\n",
              "      <td>NaN</td>\n",
              "      <td>NaN</td>\n",
              "      <td>...</td>\n",
              "      <td>63</td>\n",
              "      <td>29</td>\n",
              "      <td>95</td>\n",
              "      <td>82</td>\n",
              "      <td>85</td>\n",
              "      <td>95</td>\n",
              "      <td>28</td>\n",
              "      <td>32</td>\n",
              "      <td>24</td>\n",
              "      <td>7</td>\n",
              "      <td>11</td>\n",
              "      <td>15</td>\n",
              "      <td>14</td>\n",
              "      <td>11</td>\n",
              "      <td>91+3</td>\n",
              "      <td>91+3</td>\n",
              "      <td>91+3</td>\n",
              "      <td>89+3</td>\n",
              "      <td>90+3</td>\n",
              "      <td>90+3</td>\n",
              "      <td>90+3</td>\n",
              "      <td>89+3</td>\n",
              "      <td>88+3</td>\n",
              "      <td>88+3</td>\n",
              "      <td>88+3</td>\n",
              "      <td>88+3</td>\n",
              "      <td>81+3</td>\n",
              "      <td>81+3</td>\n",
              "      <td>81+3</td>\n",
              "      <td>88+3</td>\n",
              "      <td>65+3</td>\n",
              "      <td>61+3</td>\n",
              "      <td>61+3</td>\n",
              "      <td>61+3</td>\n",
              "      <td>65+3</td>\n",
              "      <td>61+3</td>\n",
              "      <td>53+3</td>\n",
              "      <td>53+3</td>\n",
              "      <td>53+3</td>\n",
              "      <td>61+3</td>\n",
              "    </tr>\n",
              "    <tr>\n",
              "      <th>2</th>\n",
              "      <td>190871</td>\n",
              "      <td>https://sofifa.com/player/190871/neymar-da-sil...</td>\n",
              "      <td>Neymar Jr</td>\n",
              "      <td>Neymar da Silva Santos Junior</td>\n",
              "      <td>27</td>\n",
              "      <td>1992-02-05</td>\n",
              "      <td>175</td>\n",
              "      <td>68</td>\n",
              "      <td>Brazil</td>\n",
              "      <td>Paris Saint-Germain</td>\n",
              "      <td>92</td>\n",
              "      <td>92</td>\n",
              "      <td>105500000</td>\n",
              "      <td>290000</td>\n",
              "      <td>LW, CAM</td>\n",
              "      <td>Right</td>\n",
              "      <td>5</td>\n",
              "      <td>5</td>\n",
              "      <td>5</td>\n",
              "      <td>High/Medium</td>\n",
              "      <td>Neymar</td>\n",
              "      <td>Yes</td>\n",
              "      <td>195200000.0</td>\n",
              "      <td>#Speedster, #Dribbler, #Playmaker  , #Crosser,...</td>\n",
              "      <td>CAM</td>\n",
              "      <td>10.0</td>\n",
              "      <td>NaN</td>\n",
              "      <td>2017-08-03</td>\n",
              "      <td>2022.0</td>\n",
              "      <td>LW</td>\n",
              "      <td>10.0</td>\n",
              "      <td>91.0</td>\n",
              "      <td>85.0</td>\n",
              "      <td>87.0</td>\n",
              "      <td>95.0</td>\n",
              "      <td>32.0</td>\n",
              "      <td>58.0</td>\n",
              "      <td>NaN</td>\n",
              "      <td>NaN</td>\n",
              "      <td>NaN</td>\n",
              "      <td>...</td>\n",
              "      <td>51</td>\n",
              "      <td>36</td>\n",
              "      <td>87</td>\n",
              "      <td>90</td>\n",
              "      <td>90</td>\n",
              "      <td>94</td>\n",
              "      <td>27</td>\n",
              "      <td>26</td>\n",
              "      <td>29</td>\n",
              "      <td>9</td>\n",
              "      <td>9</td>\n",
              "      <td>15</td>\n",
              "      <td>15</td>\n",
              "      <td>11</td>\n",
              "      <td>84+3</td>\n",
              "      <td>84+3</td>\n",
              "      <td>84+3</td>\n",
              "      <td>90+3</td>\n",
              "      <td>89+3</td>\n",
              "      <td>89+3</td>\n",
              "      <td>89+3</td>\n",
              "      <td>90+3</td>\n",
              "      <td>90+3</td>\n",
              "      <td>90+3</td>\n",
              "      <td>90+3</td>\n",
              "      <td>89+3</td>\n",
              "      <td>82+3</td>\n",
              "      <td>82+3</td>\n",
              "      <td>82+3</td>\n",
              "      <td>89+3</td>\n",
              "      <td>66+3</td>\n",
              "      <td>61+3</td>\n",
              "      <td>61+3</td>\n",
              "      <td>61+3</td>\n",
              "      <td>66+3</td>\n",
              "      <td>61+3</td>\n",
              "      <td>46+3</td>\n",
              "      <td>46+3</td>\n",
              "      <td>46+3</td>\n",
              "      <td>61+3</td>\n",
              "    </tr>\n",
              "    <tr>\n",
              "      <th>3</th>\n",
              "      <td>200389</td>\n",
              "      <td>https://sofifa.com/player/200389/jan-oblak/20/...</td>\n",
              "      <td>J. Oblak</td>\n",
              "      <td>Jan Oblak</td>\n",
              "      <td>26</td>\n",
              "      <td>1993-01-07</td>\n",
              "      <td>188</td>\n",
              "      <td>87</td>\n",
              "      <td>Slovenia</td>\n",
              "      <td>Atlético Madrid</td>\n",
              "      <td>91</td>\n",
              "      <td>93</td>\n",
              "      <td>77500000</td>\n",
              "      <td>125000</td>\n",
              "      <td>GK</td>\n",
              "      <td>Right</td>\n",
              "      <td>3</td>\n",
              "      <td>3</td>\n",
              "      <td>1</td>\n",
              "      <td>Medium/Medium</td>\n",
              "      <td>Normal</td>\n",
              "      <td>Yes</td>\n",
              "      <td>164700000.0</td>\n",
              "      <td>NaN</td>\n",
              "      <td>GK</td>\n",
              "      <td>13.0</td>\n",
              "      <td>NaN</td>\n",
              "      <td>2014-07-16</td>\n",
              "      <td>2023.0</td>\n",
              "      <td>GK</td>\n",
              "      <td>1.0</td>\n",
              "      <td>NaN</td>\n",
              "      <td>NaN</td>\n",
              "      <td>NaN</td>\n",
              "      <td>NaN</td>\n",
              "      <td>NaN</td>\n",
              "      <td>NaN</td>\n",
              "      <td>87.0</td>\n",
              "      <td>92.0</td>\n",
              "      <td>78.0</td>\n",
              "      <td>...</td>\n",
              "      <td>34</td>\n",
              "      <td>19</td>\n",
              "      <td>11</td>\n",
              "      <td>65</td>\n",
              "      <td>11</td>\n",
              "      <td>68</td>\n",
              "      <td>27</td>\n",
              "      <td>12</td>\n",
              "      <td>18</td>\n",
              "      <td>87</td>\n",
              "      <td>92</td>\n",
              "      <td>78</td>\n",
              "      <td>90</td>\n",
              "      <td>89</td>\n",
              "      <td>NaN</td>\n",
              "      <td>NaN</td>\n",
              "      <td>NaN</td>\n",
              "      <td>NaN</td>\n",
              "      <td>NaN</td>\n",
              "      <td>NaN</td>\n",
              "      <td>NaN</td>\n",
              "      <td>NaN</td>\n",
              "      <td>NaN</td>\n",
              "      <td>NaN</td>\n",
              "      <td>NaN</td>\n",
              "      <td>NaN</td>\n",
              "      <td>NaN</td>\n",
              "      <td>NaN</td>\n",
              "      <td>NaN</td>\n",
              "      <td>NaN</td>\n",
              "      <td>NaN</td>\n",
              "      <td>NaN</td>\n",
              "      <td>NaN</td>\n",
              "      <td>NaN</td>\n",
              "      <td>NaN</td>\n",
              "      <td>NaN</td>\n",
              "      <td>NaN</td>\n",
              "      <td>NaN</td>\n",
              "      <td>NaN</td>\n",
              "      <td>NaN</td>\n",
              "    </tr>\n",
              "    <tr>\n",
              "      <th>4</th>\n",
              "      <td>183277</td>\n",
              "      <td>https://sofifa.com/player/183277/eden-hazard/2...</td>\n",
              "      <td>E. Hazard</td>\n",
              "      <td>Eden Hazard</td>\n",
              "      <td>28</td>\n",
              "      <td>1991-01-07</td>\n",
              "      <td>175</td>\n",
              "      <td>74</td>\n",
              "      <td>Belgium</td>\n",
              "      <td>Real Madrid</td>\n",
              "      <td>91</td>\n",
              "      <td>91</td>\n",
              "      <td>90000000</td>\n",
              "      <td>470000</td>\n",
              "      <td>LW, CF</td>\n",
              "      <td>Right</td>\n",
              "      <td>4</td>\n",
              "      <td>4</td>\n",
              "      <td>4</td>\n",
              "      <td>High/Medium</td>\n",
              "      <td>Normal</td>\n",
              "      <td>Yes</td>\n",
              "      <td>184500000.0</td>\n",
              "      <td>#Speedster, #Dribbler, #Acrobat</td>\n",
              "      <td>LW</td>\n",
              "      <td>7.0</td>\n",
              "      <td>NaN</td>\n",
              "      <td>2019-07-01</td>\n",
              "      <td>2024.0</td>\n",
              "      <td>LF</td>\n",
              "      <td>10.0</td>\n",
              "      <td>91.0</td>\n",
              "      <td>83.0</td>\n",
              "      <td>86.0</td>\n",
              "      <td>94.0</td>\n",
              "      <td>35.0</td>\n",
              "      <td>66.0</td>\n",
              "      <td>NaN</td>\n",
              "      <td>NaN</td>\n",
              "      <td>NaN</td>\n",
              "      <td>...</td>\n",
              "      <td>54</td>\n",
              "      <td>41</td>\n",
              "      <td>87</td>\n",
              "      <td>89</td>\n",
              "      <td>88</td>\n",
              "      <td>91</td>\n",
              "      <td>34</td>\n",
              "      <td>27</td>\n",
              "      <td>22</td>\n",
              "      <td>11</td>\n",
              "      <td>12</td>\n",
              "      <td>6</td>\n",
              "      <td>8</td>\n",
              "      <td>8</td>\n",
              "      <td>83+3</td>\n",
              "      <td>83+3</td>\n",
              "      <td>83+3</td>\n",
              "      <td>89+3</td>\n",
              "      <td>88+3</td>\n",
              "      <td>88+3</td>\n",
              "      <td>88+3</td>\n",
              "      <td>89+3</td>\n",
              "      <td>89+3</td>\n",
              "      <td>89+3</td>\n",
              "      <td>89+3</td>\n",
              "      <td>89+3</td>\n",
              "      <td>83+3</td>\n",
              "      <td>83+3</td>\n",
              "      <td>83+3</td>\n",
              "      <td>89+3</td>\n",
              "      <td>66+3</td>\n",
              "      <td>63+3</td>\n",
              "      <td>63+3</td>\n",
              "      <td>63+3</td>\n",
              "      <td>66+3</td>\n",
              "      <td>61+3</td>\n",
              "      <td>49+3</td>\n",
              "      <td>49+3</td>\n",
              "      <td>49+3</td>\n",
              "      <td>61+3</td>\n",
              "    </tr>\n",
              "  </tbody>\n",
              "</table>\n",
              "<p>5 rows × 104 columns</p>\n",
              "</div>"
            ],
            "text/plain": [
              "   sofifa_id                                         player_url  ...   rcb    rb\n",
              "0     158023  https://sofifa.com/player/158023/lionel-messi/...  ...  52+2  63+2\n",
              "1      20801  https://sofifa.com/player/20801/c-ronaldo-dos-...  ...  53+3  61+3\n",
              "2     190871  https://sofifa.com/player/190871/neymar-da-sil...  ...  46+3  61+3\n",
              "3     200389  https://sofifa.com/player/200389/jan-oblak/20/...  ...   NaN   NaN\n",
              "4     183277  https://sofifa.com/player/183277/eden-hazard/2...  ...  49+3  61+3\n",
              "\n",
              "[5 rows x 104 columns]"
            ]
          },
          "metadata": {
            "tags": []
          },
          "execution_count": 323
        }
      ]
    },
    {
      "cell_type": "markdown",
      "metadata": {
        "id": "6sionZtXRYuA"
      },
      "source": [
        "Vemos que el dataset contiene más de 18 mil observaciones y 104 variables"
      ]
    },
    {
      "cell_type": "code",
      "metadata": {
        "colab": {
          "base_uri": "https://localhost:8080/",
          "height": 0
        },
        "id": "yJ-NzVzZRYuA",
        "outputId": "1d36ae0e-4d45-4b8e-8f8a-f43a78feb83a"
      },
      "source": [
        "df.shape"
      ],
      "execution_count": 324,
      "outputs": [
        {
          "output_type": "execute_result",
          "data": {
            "text/plain": [
              "(18278, 104)"
            ]
          },
          "metadata": {
            "tags": []
          },
          "execution_count": 324
        }
      ]
    },
    {
      "cell_type": "markdown",
      "metadata": {
        "id": "GLWRtNXWRYuB"
      },
      "source": [
        "## PASO 2: Exploracion y Preparacion de los datos"
      ]
    },
    {
      "cell_type": "markdown",
      "metadata": {
        "id": "xIL6JhDvPtsp"
      },
      "source": [
        "### Exploración preliminar de los datos"
      ]
    },
    {
      "cell_type": "code",
      "metadata": {
        "colab": {
          "base_uri": "https://localhost:8080/",
          "height": 0
        },
        "id": "81kZarZxkS4K",
        "outputId": "98ddd511-7a3b-4ad7-fa3e-ce993a2645a1"
      },
      "source": [
        "# info básica del dataframe. Demasiadas variables para mostrar \n",
        "df.info()"
      ],
      "execution_count": 325,
      "outputs": [
        {
          "output_type": "stream",
          "text": [
            "<class 'pandas.core.frame.DataFrame'>\n",
            "RangeIndex: 18278 entries, 0 to 18277\n",
            "Columns: 104 entries, sofifa_id to rb\n",
            "dtypes: float64(16), int64(45), object(43)\n",
            "memory usage: 14.5+ MB\n"
          ],
          "name": "stdout"
        }
      ]
    },
    {
      "cell_type": "code",
      "metadata": {
        "colab": {
          "base_uri": "https://localhost:8080/",
          "height": 0
        },
        "id": "5ymm3bVwic-Q",
        "outputId": "b3f7584e-f2fd-4ef0-d85d-7c3b8bfb4b73"
      },
      "source": [
        "# Listado de variables y su tipo\n",
        "[(i, col, df[col].dtype) for i, col in enumerate(df.columns)]"
      ],
      "execution_count": 326,
      "outputs": [
        {
          "output_type": "execute_result",
          "data": {
            "text/plain": [
              "[(0, 'sofifa_id', dtype('int64')),\n",
              " (1, 'player_url', dtype('O')),\n",
              " (2, 'short_name', dtype('O')),\n",
              " (3, 'long_name', dtype('O')),\n",
              " (4, 'age', dtype('int64')),\n",
              " (5, 'dob', dtype('O')),\n",
              " (6, 'height_cm', dtype('int64')),\n",
              " (7, 'weight_kg', dtype('int64')),\n",
              " (8, 'nationality', dtype('O')),\n",
              " (9, 'club', dtype('O')),\n",
              " (10, 'overall', dtype('int64')),\n",
              " (11, 'potential', dtype('int64')),\n",
              " (12, 'value_eur', dtype('int64')),\n",
              " (13, 'wage_eur', dtype('int64')),\n",
              " (14, 'player_positions', dtype('O')),\n",
              " (15, 'preferred_foot', dtype('O')),\n",
              " (16, 'international_reputation', dtype('int64')),\n",
              " (17, 'weak_foot', dtype('int64')),\n",
              " (18, 'skill_moves', dtype('int64')),\n",
              " (19, 'work_rate', dtype('O')),\n",
              " (20, 'body_type', dtype('O')),\n",
              " (21, 'real_face', dtype('O')),\n",
              " (22, 'release_clause_eur', dtype('float64')),\n",
              " (23, 'player_tags', dtype('O')),\n",
              " (24, 'team_position', dtype('O')),\n",
              " (25, 'team_jersey_number', dtype('float64')),\n",
              " (26, 'loaned_from', dtype('O')),\n",
              " (27, 'joined', dtype('O')),\n",
              " (28, 'contract_valid_until', dtype('float64')),\n",
              " (29, 'nation_position', dtype('O')),\n",
              " (30, 'nation_jersey_number', dtype('float64')),\n",
              " (31, 'pace', dtype('float64')),\n",
              " (32, 'shooting', dtype('float64')),\n",
              " (33, 'passing', dtype('float64')),\n",
              " (34, 'dribbling', dtype('float64')),\n",
              " (35, 'defending', dtype('float64')),\n",
              " (36, 'physic', dtype('float64')),\n",
              " (37, 'gk_diving', dtype('float64')),\n",
              " (38, 'gk_handling', dtype('float64')),\n",
              " (39, 'gk_kicking', dtype('float64')),\n",
              " (40, 'gk_reflexes', dtype('float64')),\n",
              " (41, 'gk_speed', dtype('float64')),\n",
              " (42, 'gk_positioning', dtype('float64')),\n",
              " (43, 'player_traits', dtype('O')),\n",
              " (44, 'attacking_crossing', dtype('int64')),\n",
              " (45, 'attacking_finishing', dtype('int64')),\n",
              " (46, 'attacking_heading_accuracy', dtype('int64')),\n",
              " (47, 'attacking_short_passing', dtype('int64')),\n",
              " (48, 'attacking_volleys', dtype('int64')),\n",
              " (49, 'skill_dribbling', dtype('int64')),\n",
              " (50, 'skill_curve', dtype('int64')),\n",
              " (51, 'skill_fk_accuracy', dtype('int64')),\n",
              " (52, 'skill_long_passing', dtype('int64')),\n",
              " (53, 'skill_ball_control', dtype('int64')),\n",
              " (54, 'movement_acceleration', dtype('int64')),\n",
              " (55, 'movement_sprint_speed', dtype('int64')),\n",
              " (56, 'movement_agility', dtype('int64')),\n",
              " (57, 'movement_reactions', dtype('int64')),\n",
              " (58, 'movement_balance', dtype('int64')),\n",
              " (59, 'power_shot_power', dtype('int64')),\n",
              " (60, 'power_jumping', dtype('int64')),\n",
              " (61, 'power_stamina', dtype('int64')),\n",
              " (62, 'power_strength', dtype('int64')),\n",
              " (63, 'power_long_shots', dtype('int64')),\n",
              " (64, 'mentality_aggression', dtype('int64')),\n",
              " (65, 'mentality_interceptions', dtype('int64')),\n",
              " (66, 'mentality_positioning', dtype('int64')),\n",
              " (67, 'mentality_vision', dtype('int64')),\n",
              " (68, 'mentality_penalties', dtype('int64')),\n",
              " (69, 'mentality_composure', dtype('int64')),\n",
              " (70, 'defending_marking', dtype('int64')),\n",
              " (71, 'defending_standing_tackle', dtype('int64')),\n",
              " (72, 'defending_sliding_tackle', dtype('int64')),\n",
              " (73, 'goalkeeping_diving', dtype('int64')),\n",
              " (74, 'goalkeeping_handling', dtype('int64')),\n",
              " (75, 'goalkeeping_kicking', dtype('int64')),\n",
              " (76, 'goalkeeping_positioning', dtype('int64')),\n",
              " (77, 'goalkeeping_reflexes', dtype('int64')),\n",
              " (78, 'ls', dtype('O')),\n",
              " (79, 'st', dtype('O')),\n",
              " (80, 'rs', dtype('O')),\n",
              " (81, 'lw', dtype('O')),\n",
              " (82, 'lf', dtype('O')),\n",
              " (83, 'cf', dtype('O')),\n",
              " (84, 'rf', dtype('O')),\n",
              " (85, 'rw', dtype('O')),\n",
              " (86, 'lam', dtype('O')),\n",
              " (87, 'cam', dtype('O')),\n",
              " (88, 'ram', dtype('O')),\n",
              " (89, 'lm', dtype('O')),\n",
              " (90, 'lcm', dtype('O')),\n",
              " (91, 'cm', dtype('O')),\n",
              " (92, 'rcm', dtype('O')),\n",
              " (93, 'rm', dtype('O')),\n",
              " (94, 'lwb', dtype('O')),\n",
              " (95, 'ldm', dtype('O')),\n",
              " (96, 'cdm', dtype('O')),\n",
              " (97, 'rdm', dtype('O')),\n",
              " (98, 'rwb', dtype('O')),\n",
              " (99, 'lb', dtype('O')),\n",
              " (100, 'lcb', dtype('O')),\n",
              " (101, 'cb', dtype('O')),\n",
              " (102, 'rcb', dtype('O')),\n",
              " (103, 'rb', dtype('O'))]"
            ]
          },
          "metadata": {
            "tags": []
          },
          "execution_count": 326
        }
      ]
    },
    {
      "cell_type": "code",
      "metadata": {
        "colab": {
          "base_uri": "https://localhost:8080/",
          "height": 317
        },
        "id": "egrsqEGyiIeY",
        "outputId": "5b2d9afe-dc38-4145-b468-f21ea816e1e6"
      },
      "source": [
        "# Resumen estadístico (variables numéricas)\n",
        "df.describe()"
      ],
      "execution_count": 327,
      "outputs": [
        {
          "output_type": "execute_result",
          "data": {
            "text/html": [
              "<div>\n",
              "<style scoped>\n",
              "    .dataframe tbody tr th:only-of-type {\n",
              "        vertical-align: middle;\n",
              "    }\n",
              "\n",
              "    .dataframe tbody tr th {\n",
              "        vertical-align: top;\n",
              "    }\n",
              "\n",
              "    .dataframe thead th {\n",
              "        text-align: right;\n",
              "    }\n",
              "</style>\n",
              "<table border=\"1\" class=\"dataframe\">\n",
              "  <thead>\n",
              "    <tr style=\"text-align: right;\">\n",
              "      <th></th>\n",
              "      <th>sofifa_id</th>\n",
              "      <th>age</th>\n",
              "      <th>height_cm</th>\n",
              "      <th>weight_kg</th>\n",
              "      <th>overall</th>\n",
              "      <th>potential</th>\n",
              "      <th>value_eur</th>\n",
              "      <th>wage_eur</th>\n",
              "      <th>international_reputation</th>\n",
              "      <th>weak_foot</th>\n",
              "      <th>skill_moves</th>\n",
              "      <th>release_clause_eur</th>\n",
              "      <th>team_jersey_number</th>\n",
              "      <th>contract_valid_until</th>\n",
              "      <th>nation_jersey_number</th>\n",
              "      <th>pace</th>\n",
              "      <th>shooting</th>\n",
              "      <th>passing</th>\n",
              "      <th>dribbling</th>\n",
              "      <th>defending</th>\n",
              "      <th>physic</th>\n",
              "      <th>gk_diving</th>\n",
              "      <th>gk_handling</th>\n",
              "      <th>gk_kicking</th>\n",
              "      <th>gk_reflexes</th>\n",
              "      <th>gk_speed</th>\n",
              "      <th>gk_positioning</th>\n",
              "      <th>attacking_crossing</th>\n",
              "      <th>attacking_finishing</th>\n",
              "      <th>attacking_heading_accuracy</th>\n",
              "      <th>attacking_short_passing</th>\n",
              "      <th>attacking_volleys</th>\n",
              "      <th>skill_dribbling</th>\n",
              "      <th>skill_curve</th>\n",
              "      <th>skill_fk_accuracy</th>\n",
              "      <th>skill_long_passing</th>\n",
              "      <th>skill_ball_control</th>\n",
              "      <th>movement_acceleration</th>\n",
              "      <th>movement_sprint_speed</th>\n",
              "      <th>movement_agility</th>\n",
              "      <th>movement_reactions</th>\n",
              "      <th>movement_balance</th>\n",
              "      <th>power_shot_power</th>\n",
              "      <th>power_jumping</th>\n",
              "      <th>power_stamina</th>\n",
              "      <th>power_strength</th>\n",
              "      <th>power_long_shots</th>\n",
              "      <th>mentality_aggression</th>\n",
              "      <th>mentality_interceptions</th>\n",
              "      <th>mentality_positioning</th>\n",
              "      <th>mentality_vision</th>\n",
              "      <th>mentality_penalties</th>\n",
              "      <th>mentality_composure</th>\n",
              "      <th>defending_marking</th>\n",
              "      <th>defending_standing_tackle</th>\n",
              "      <th>defending_sliding_tackle</th>\n",
              "      <th>goalkeeping_diving</th>\n",
              "      <th>goalkeeping_handling</th>\n",
              "      <th>goalkeeping_kicking</th>\n",
              "      <th>goalkeeping_positioning</th>\n",
              "      <th>goalkeeping_reflexes</th>\n",
              "    </tr>\n",
              "  </thead>\n",
              "  <tbody>\n",
              "    <tr>\n",
              "      <th>count</th>\n",
              "      <td>18278.000000</td>\n",
              "      <td>18278.000000</td>\n",
              "      <td>18278.000000</td>\n",
              "      <td>18278.000000</td>\n",
              "      <td>18278.000000</td>\n",
              "      <td>18278.000000</td>\n",
              "      <td>1.827800e+04</td>\n",
              "      <td>18278.000000</td>\n",
              "      <td>18278.000000</td>\n",
              "      <td>18278.000000</td>\n",
              "      <td>18278.000000</td>\n",
              "      <td>1.698000e+04</td>\n",
              "      <td>18038.000000</td>\n",
              "      <td>18038.000000</td>\n",
              "      <td>1126.000000</td>\n",
              "      <td>16242.000000</td>\n",
              "      <td>16242.000000</td>\n",
              "      <td>16242.000000</td>\n",
              "      <td>16242.000000</td>\n",
              "      <td>16242.000000</td>\n",
              "      <td>16242.000000</td>\n",
              "      <td>2036.000000</td>\n",
              "      <td>2036.000000</td>\n",
              "      <td>2036.000000</td>\n",
              "      <td>2036.000000</td>\n",
              "      <td>2036.000000</td>\n",
              "      <td>2036.000000</td>\n",
              "      <td>18278.000000</td>\n",
              "      <td>18278.000000</td>\n",
              "      <td>18278.000000</td>\n",
              "      <td>18278.000000</td>\n",
              "      <td>18278.000000</td>\n",
              "      <td>18278.000000</td>\n",
              "      <td>18278.000000</td>\n",
              "      <td>18278.000000</td>\n",
              "      <td>18278.000000</td>\n",
              "      <td>18278.000000</td>\n",
              "      <td>18278.000000</td>\n",
              "      <td>18278.000000</td>\n",
              "      <td>18278.000000</td>\n",
              "      <td>18278.000000</td>\n",
              "      <td>18278.000000</td>\n",
              "      <td>18278.000000</td>\n",
              "      <td>18278.000000</td>\n",
              "      <td>18278.000000</td>\n",
              "      <td>18278.000000</td>\n",
              "      <td>18278.000000</td>\n",
              "      <td>18278.000000</td>\n",
              "      <td>18278.000000</td>\n",
              "      <td>18278.000000</td>\n",
              "      <td>18278.000000</td>\n",
              "      <td>18278.000000</td>\n",
              "      <td>18278.000000</td>\n",
              "      <td>18278.000000</td>\n",
              "      <td>18278.000000</td>\n",
              "      <td>18278.000000</td>\n",
              "      <td>18278.000000</td>\n",
              "      <td>18278.000000</td>\n",
              "      <td>18278.000000</td>\n",
              "      <td>18278.000000</td>\n",
              "      <td>18278.000000</td>\n",
              "    </tr>\n",
              "    <tr>\n",
              "      <th>mean</th>\n",
              "      <td>219738.864482</td>\n",
              "      <td>25.283291</td>\n",
              "      <td>181.362184</td>\n",
              "      <td>75.276343</td>\n",
              "      <td>66.244994</td>\n",
              "      <td>71.546887</td>\n",
              "      <td>2.484038e+06</td>\n",
              "      <td>9456.942773</td>\n",
              "      <td>1.103184</td>\n",
              "      <td>2.944250</td>\n",
              "      <td>2.368038</td>\n",
              "      <td>4.740717e+06</td>\n",
              "      <td>20.103892</td>\n",
              "      <td>2021.114591</td>\n",
              "      <td>12.114565</td>\n",
              "      <td>67.700899</td>\n",
              "      <td>52.298301</td>\n",
              "      <td>57.233777</td>\n",
              "      <td>62.531585</td>\n",
              "      <td>51.553503</td>\n",
              "      <td>64.876678</td>\n",
              "      <td>65.422397</td>\n",
              "      <td>63.146365</td>\n",
              "      <td>61.832515</td>\n",
              "      <td>66.390472</td>\n",
              "      <td>37.798625</td>\n",
              "      <td>63.374754</td>\n",
              "      <td>49.718405</td>\n",
              "      <td>45.590218</td>\n",
              "      <td>52.221468</td>\n",
              "      <td>58.748003</td>\n",
              "      <td>42.809388</td>\n",
              "      <td>55.596509</td>\n",
              "      <td>47.325692</td>\n",
              "      <td>42.708885</td>\n",
              "      <td>52.768848</td>\n",
              "      <td>58.461976</td>\n",
              "      <td>64.299923</td>\n",
              "      <td>64.415746</td>\n",
              "      <td>63.504924</td>\n",
              "      <td>61.752544</td>\n",
              "      <td>63.856439</td>\n",
              "      <td>58.181694</td>\n",
              "      <td>64.928165</td>\n",
              "      <td>62.889485</td>\n",
              "      <td>65.234763</td>\n",
              "      <td>46.812945</td>\n",
              "      <td>55.742149</td>\n",
              "      <td>46.380239</td>\n",
              "      <td>50.072163</td>\n",
              "      <td>53.609749</td>\n",
              "      <td>48.383357</td>\n",
              "      <td>58.528778</td>\n",
              "      <td>46.848889</td>\n",
              "      <td>47.640333</td>\n",
              "      <td>45.606631</td>\n",
              "      <td>16.572765</td>\n",
              "      <td>16.354853</td>\n",
              "      <td>16.212934</td>\n",
              "      <td>16.368038</td>\n",
              "      <td>16.709924</td>\n",
              "    </tr>\n",
              "    <tr>\n",
              "      <th>std</th>\n",
              "      <td>27960.200461</td>\n",
              "      <td>4.656964</td>\n",
              "      <td>6.756961</td>\n",
              "      <td>7.047744</td>\n",
              "      <td>6.949953</td>\n",
              "      <td>6.139669</td>\n",
              "      <td>5.585481e+06</td>\n",
              "      <td>21351.714095</td>\n",
              "      <td>0.378861</td>\n",
              "      <td>0.664656</td>\n",
              "      <td>0.765038</td>\n",
              "      <td>1.103002e+07</td>\n",
              "      <td>16.603639</td>\n",
              "      <td>1.289888</td>\n",
              "      <td>6.735922</td>\n",
              "      <td>11.297656</td>\n",
              "      <td>14.029418</td>\n",
              "      <td>10.407844</td>\n",
              "      <td>10.284950</td>\n",
              "      <td>16.419528</td>\n",
              "      <td>9.760162</td>\n",
              "      <td>7.736278</td>\n",
              "      <td>7.244023</td>\n",
              "      <td>7.510709</td>\n",
              "      <td>8.154062</td>\n",
              "      <td>10.634038</td>\n",
              "      <td>8.447876</td>\n",
              "      <td>18.325403</td>\n",
              "      <td>19.594609</td>\n",
              "      <td>17.428429</td>\n",
              "      <td>14.679653</td>\n",
              "      <td>17.701815</td>\n",
              "      <td>18.929118</td>\n",
              "      <td>18.422991</td>\n",
              "      <td>17.433612</td>\n",
              "      <td>15.246454</td>\n",
              "      <td>16.741878</td>\n",
              "      <td>15.042232</td>\n",
              "      <td>14.847763</td>\n",
              "      <td>14.808380</td>\n",
              "      <td>9.135613</td>\n",
              "      <td>14.201559</td>\n",
              "      <td>13.326083</td>\n",
              "      <td>11.934059</td>\n",
              "      <td>16.017954</td>\n",
              "      <td>12.534811</td>\n",
              "      <td>19.322343</td>\n",
              "      <td>17.318157</td>\n",
              "      <td>20.775812</td>\n",
              "      <td>19.594022</td>\n",
              "      <td>13.955626</td>\n",
              "      <td>15.708099</td>\n",
              "      <td>11.880840</td>\n",
              "      <td>20.091287</td>\n",
              "      <td>21.585641</td>\n",
              "      <td>21.217734</td>\n",
              "      <td>17.738069</td>\n",
              "      <td>16.996925</td>\n",
              "      <td>16.613665</td>\n",
              "      <td>17.136497</td>\n",
              "      <td>18.038125</td>\n",
              "    </tr>\n",
              "    <tr>\n",
              "      <th>min</th>\n",
              "      <td>768.000000</td>\n",
              "      <td>16.000000</td>\n",
              "      <td>156.000000</td>\n",
              "      <td>50.000000</td>\n",
              "      <td>48.000000</td>\n",
              "      <td>49.000000</td>\n",
              "      <td>0.000000e+00</td>\n",
              "      <td>0.000000</td>\n",
              "      <td>1.000000</td>\n",
              "      <td>1.000000</td>\n",
              "      <td>1.000000</td>\n",
              "      <td>1.300000e+04</td>\n",
              "      <td>1.000000</td>\n",
              "      <td>2019.000000</td>\n",
              "      <td>1.000000</td>\n",
              "      <td>24.000000</td>\n",
              "      <td>15.000000</td>\n",
              "      <td>24.000000</td>\n",
              "      <td>23.000000</td>\n",
              "      <td>15.000000</td>\n",
              "      <td>27.000000</td>\n",
              "      <td>44.000000</td>\n",
              "      <td>42.000000</td>\n",
              "      <td>35.000000</td>\n",
              "      <td>45.000000</td>\n",
              "      <td>12.000000</td>\n",
              "      <td>41.000000</td>\n",
              "      <td>5.000000</td>\n",
              "      <td>2.000000</td>\n",
              "      <td>5.000000</td>\n",
              "      <td>7.000000</td>\n",
              "      <td>3.000000</td>\n",
              "      <td>4.000000</td>\n",
              "      <td>6.000000</td>\n",
              "      <td>4.000000</td>\n",
              "      <td>8.000000</td>\n",
              "      <td>5.000000</td>\n",
              "      <td>12.000000</td>\n",
              "      <td>11.000000</td>\n",
              "      <td>11.000000</td>\n",
              "      <td>21.000000</td>\n",
              "      <td>12.000000</td>\n",
              "      <td>14.000000</td>\n",
              "      <td>19.000000</td>\n",
              "      <td>12.000000</td>\n",
              "      <td>20.000000</td>\n",
              "      <td>4.000000</td>\n",
              "      <td>9.000000</td>\n",
              "      <td>3.000000</td>\n",
              "      <td>2.000000</td>\n",
              "      <td>9.000000</td>\n",
              "      <td>7.000000</td>\n",
              "      <td>12.000000</td>\n",
              "      <td>1.000000</td>\n",
              "      <td>5.000000</td>\n",
              "      <td>3.000000</td>\n",
              "      <td>1.000000</td>\n",
              "      <td>1.000000</td>\n",
              "      <td>1.000000</td>\n",
              "      <td>1.000000</td>\n",
              "      <td>1.000000</td>\n",
              "    </tr>\n",
              "    <tr>\n",
              "      <th>25%</th>\n",
              "      <td>204445.500000</td>\n",
              "      <td>22.000000</td>\n",
              "      <td>177.000000</td>\n",
              "      <td>70.000000</td>\n",
              "      <td>62.000000</td>\n",
              "      <td>67.000000</td>\n",
              "      <td>3.250000e+05</td>\n",
              "      <td>1000.000000</td>\n",
              "      <td>1.000000</td>\n",
              "      <td>3.000000</td>\n",
              "      <td>2.000000</td>\n",
              "      <td>5.630000e+05</td>\n",
              "      <td>9.000000</td>\n",
              "      <td>2020.000000</td>\n",
              "      <td>6.000000</td>\n",
              "      <td>61.000000</td>\n",
              "      <td>42.000000</td>\n",
              "      <td>50.000000</td>\n",
              "      <td>57.000000</td>\n",
              "      <td>36.000000</td>\n",
              "      <td>59.000000</td>\n",
              "      <td>60.000000</td>\n",
              "      <td>58.000000</td>\n",
              "      <td>57.000000</td>\n",
              "      <td>60.750000</td>\n",
              "      <td>29.000000</td>\n",
              "      <td>58.000000</td>\n",
              "      <td>38.000000</td>\n",
              "      <td>30.000000</td>\n",
              "      <td>44.000000</td>\n",
              "      <td>54.000000</td>\n",
              "      <td>30.000000</td>\n",
              "      <td>50.000000</td>\n",
              "      <td>34.000000</td>\n",
              "      <td>31.000000</td>\n",
              "      <td>43.000000</td>\n",
              "      <td>54.000000</td>\n",
              "      <td>56.000000</td>\n",
              "      <td>57.000000</td>\n",
              "      <td>55.000000</td>\n",
              "      <td>56.000000</td>\n",
              "      <td>56.000000</td>\n",
              "      <td>48.000000</td>\n",
              "      <td>58.000000</td>\n",
              "      <td>56.000000</td>\n",
              "      <td>58.000000</td>\n",
              "      <td>32.000000</td>\n",
              "      <td>44.000000</td>\n",
              "      <td>25.000000</td>\n",
              "      <td>39.000000</td>\n",
              "      <td>44.000000</td>\n",
              "      <td>39.000000</td>\n",
              "      <td>51.000000</td>\n",
              "      <td>29.000000</td>\n",
              "      <td>27.000000</td>\n",
              "      <td>24.000000</td>\n",
              "      <td>8.000000</td>\n",
              "      <td>8.000000</td>\n",
              "      <td>8.000000</td>\n",
              "      <td>8.000000</td>\n",
              "      <td>8.000000</td>\n",
              "    </tr>\n",
              "    <tr>\n",
              "      <th>50%</th>\n",
              "      <td>226165.000000</td>\n",
              "      <td>25.000000</td>\n",
              "      <td>181.000000</td>\n",
              "      <td>75.000000</td>\n",
              "      <td>66.000000</td>\n",
              "      <td>71.000000</td>\n",
              "      <td>7.000000e+05</td>\n",
              "      <td>3000.000000</td>\n",
              "      <td>1.000000</td>\n",
              "      <td>3.000000</td>\n",
              "      <td>2.000000</td>\n",
              "      <td>1.200000e+06</td>\n",
              "      <td>17.000000</td>\n",
              "      <td>2021.000000</td>\n",
              "      <td>12.000000</td>\n",
              "      <td>69.000000</td>\n",
              "      <td>54.000000</td>\n",
              "      <td>58.000000</td>\n",
              "      <td>64.000000</td>\n",
              "      <td>56.000000</td>\n",
              "      <td>66.000000</td>\n",
              "      <td>65.000000</td>\n",
              "      <td>63.000000</td>\n",
              "      <td>61.000000</td>\n",
              "      <td>66.000000</td>\n",
              "      <td>39.000000</td>\n",
              "      <td>64.000000</td>\n",
              "      <td>54.000000</td>\n",
              "      <td>49.000000</td>\n",
              "      <td>56.000000</td>\n",
              "      <td>62.000000</td>\n",
              "      <td>44.000000</td>\n",
              "      <td>61.000000</td>\n",
              "      <td>49.000000</td>\n",
              "      <td>41.000000</td>\n",
              "      <td>56.000000</td>\n",
              "      <td>63.000000</td>\n",
              "      <td>67.000000</td>\n",
              "      <td>67.000000</td>\n",
              "      <td>66.000000</td>\n",
              "      <td>62.000000</td>\n",
              "      <td>66.000000</td>\n",
              "      <td>59.000000</td>\n",
              "      <td>66.000000</td>\n",
              "      <td>66.000000</td>\n",
              "      <td>66.000000</td>\n",
              "      <td>51.000000</td>\n",
              "      <td>58.000000</td>\n",
              "      <td>52.000000</td>\n",
              "      <td>55.000000</td>\n",
              "      <td>55.000000</td>\n",
              "      <td>49.000000</td>\n",
              "      <td>60.000000</td>\n",
              "      <td>52.000000</td>\n",
              "      <td>55.000000</td>\n",
              "      <td>52.000000</td>\n",
              "      <td>11.000000</td>\n",
              "      <td>11.000000</td>\n",
              "      <td>11.000000</td>\n",
              "      <td>11.000000</td>\n",
              "      <td>11.000000</td>\n",
              "    </tr>\n",
              "    <tr>\n",
              "      <th>75%</th>\n",
              "      <td>240795.750000</td>\n",
              "      <td>29.000000</td>\n",
              "      <td>186.000000</td>\n",
              "      <td>80.000000</td>\n",
              "      <td>71.000000</td>\n",
              "      <td>75.000000</td>\n",
              "      <td>2.100000e+06</td>\n",
              "      <td>8000.000000</td>\n",
              "      <td>1.000000</td>\n",
              "      <td>3.000000</td>\n",
              "      <td>3.000000</td>\n",
              "      <td>3.700000e+06</td>\n",
              "      <td>27.000000</td>\n",
              "      <td>2022.000000</td>\n",
              "      <td>18.000000</td>\n",
              "      <td>75.000000</td>\n",
              "      <td>63.000000</td>\n",
              "      <td>64.000000</td>\n",
              "      <td>69.000000</td>\n",
              "      <td>65.000000</td>\n",
              "      <td>72.000000</td>\n",
              "      <td>70.000000</td>\n",
              "      <td>68.000000</td>\n",
              "      <td>66.000000</td>\n",
              "      <td>72.000000</td>\n",
              "      <td>46.000000</td>\n",
              "      <td>69.000000</td>\n",
              "      <td>64.000000</td>\n",
              "      <td>62.000000</td>\n",
              "      <td>64.000000</td>\n",
              "      <td>68.000000</td>\n",
              "      <td>56.000000</td>\n",
              "      <td>68.000000</td>\n",
              "      <td>62.000000</td>\n",
              "      <td>56.000000</td>\n",
              "      <td>64.000000</td>\n",
              "      <td>69.000000</td>\n",
              "      <td>75.000000</td>\n",
              "      <td>75.000000</td>\n",
              "      <td>74.000000</td>\n",
              "      <td>68.000000</td>\n",
              "      <td>74.000000</td>\n",
              "      <td>68.000000</td>\n",
              "      <td>73.000000</td>\n",
              "      <td>74.000000</td>\n",
              "      <td>74.000000</td>\n",
              "      <td>62.000000</td>\n",
              "      <td>69.000000</td>\n",
              "      <td>64.000000</td>\n",
              "      <td>64.000000</td>\n",
              "      <td>64.000000</td>\n",
              "      <td>60.000000</td>\n",
              "      <td>67.000000</td>\n",
              "      <td>64.000000</td>\n",
              "      <td>66.000000</td>\n",
              "      <td>64.000000</td>\n",
              "      <td>14.000000</td>\n",
              "      <td>14.000000</td>\n",
              "      <td>14.000000</td>\n",
              "      <td>14.000000</td>\n",
              "      <td>14.000000</td>\n",
              "    </tr>\n",
              "    <tr>\n",
              "      <th>max</th>\n",
              "      <td>252905.000000</td>\n",
              "      <td>42.000000</td>\n",
              "      <td>205.000000</td>\n",
              "      <td>110.000000</td>\n",
              "      <td>94.000000</td>\n",
              "      <td>95.000000</td>\n",
              "      <td>1.055000e+08</td>\n",
              "      <td>565000.000000</td>\n",
              "      <td>5.000000</td>\n",
              "      <td>5.000000</td>\n",
              "      <td>5.000000</td>\n",
              "      <td>1.958000e+08</td>\n",
              "      <td>99.000000</td>\n",
              "      <td>2026.000000</td>\n",
              "      <td>30.000000</td>\n",
              "      <td>96.000000</td>\n",
              "      <td>93.000000</td>\n",
              "      <td>92.000000</td>\n",
              "      <td>96.000000</td>\n",
              "      <td>90.000000</td>\n",
              "      <td>90.000000</td>\n",
              "      <td>90.000000</td>\n",
              "      <td>92.000000</td>\n",
              "      <td>93.000000</td>\n",
              "      <td>92.000000</td>\n",
              "      <td>65.000000</td>\n",
              "      <td>91.000000</td>\n",
              "      <td>93.000000</td>\n",
              "      <td>95.000000</td>\n",
              "      <td>93.000000</td>\n",
              "      <td>92.000000</td>\n",
              "      <td>90.000000</td>\n",
              "      <td>97.000000</td>\n",
              "      <td>94.000000</td>\n",
              "      <td>94.000000</td>\n",
              "      <td>92.000000</td>\n",
              "      <td>96.000000</td>\n",
              "      <td>97.000000</td>\n",
              "      <td>96.000000</td>\n",
              "      <td>96.000000</td>\n",
              "      <td>96.000000</td>\n",
              "      <td>97.000000</td>\n",
              "      <td>95.000000</td>\n",
              "      <td>95.000000</td>\n",
              "      <td>97.000000</td>\n",
              "      <td>97.000000</td>\n",
              "      <td>94.000000</td>\n",
              "      <td>95.000000</td>\n",
              "      <td>92.000000</td>\n",
              "      <td>95.000000</td>\n",
              "      <td>94.000000</td>\n",
              "      <td>92.000000</td>\n",
              "      <td>96.000000</td>\n",
              "      <td>94.000000</td>\n",
              "      <td>92.000000</td>\n",
              "      <td>90.000000</td>\n",
              "      <td>90.000000</td>\n",
              "      <td>92.000000</td>\n",
              "      <td>93.000000</td>\n",
              "      <td>91.000000</td>\n",
              "      <td>92.000000</td>\n",
              "    </tr>\n",
              "  </tbody>\n",
              "</table>\n",
              "</div>"
            ],
            "text/plain": [
              "           sofifa_id  ...  goalkeeping_reflexes\n",
              "count   18278.000000  ...          18278.000000\n",
              "mean   219738.864482  ...             16.709924\n",
              "std     27960.200461  ...             18.038125\n",
              "min       768.000000  ...              1.000000\n",
              "25%    204445.500000  ...              8.000000\n",
              "50%    226165.000000  ...             11.000000\n",
              "75%    240795.750000  ...             14.000000\n",
              "max    252905.000000  ...             92.000000\n",
              "\n",
              "[8 rows x 61 columns]"
            ]
          },
          "metadata": {
            "tags": []
          },
          "execution_count": 327
        }
      ]
    },
    {
      "cell_type": "markdown",
      "metadata": {
        "id": "PcdUtXJxHZzM"
      },
      "source": [
        "### La mayoría de las variables no son relevantes para la estimación del precio de mercado de un futbolista.\n",
        " Consideraremos inicialmente las siguientes variables:\n",
        " - value_eur (precio del jugador en euros) -> variable target\n",
        " - age  (edad)\n",
        " - overall (valoración global del jugador 1-100)\n",
        " - potential (valoración global que se cree que un jugador podría alcanzar 1-100)\n",
        " - preferred_foot (diestro o zurdo)\n",
        " - international_reputation (valor de 1-5)\n",
        " - team_position (29 valores posibles)\n",
        " - wage_eur (salario del jugador en euros)\n",
        " \n",
        " Generamos un **nuevo dataset df_fifa con solo estas variables**.\n",
        "- Cambiaremos las variables value_eur a millones de euros (M€)\n",
        "- Cambiaremos la wage_eur a miles de euros (K€)\n",
        "- cambiaremos la variable preferred_foot a numérica (0-1)\n",
        "- cambiaremos la variable team_position a numérica (0-28)\n",
        "\n",
        "**NOTA**: no usaremos la variable release_clause_eur porque tiene una correlación total con el target value_err y el modelo sería demasiado simple. \n"
      ]
    },
    {
      "cell_type": "code",
      "metadata": {
        "id": "0AtFnHzqHoTW"
      },
      "source": [
        "vars_selected = ['short_name', 'overall', 'age','potential', 'preferred_foot', 'international_reputation', 'team_position', 'wage_eur', 'value_eur']\n",
        "df_fifa = df[vars_selected]\n"
      ],
      "execution_count": 328,
      "outputs": []
    },
    {
      "cell_type": "code",
      "metadata": {
        "colab": {
          "base_uri": "https://localhost:8080/",
          "height": 0
        },
        "id": "VMf7xGcFf4V9",
        "outputId": "d075dec6-a46b-4782-adf1-f3d489d76f02"
      },
      "source": [
        "df_fifa['value_eur'] = df_fifa['value_eur'] / 1000000\n",
        "df_fifa['wage_eur'] = df_fifa['wage_eur'] / 1000"
      ],
      "execution_count": 329,
      "outputs": [
        {
          "output_type": "stream",
          "text": [
            "/usr/local/lib/python3.6/dist-packages/ipykernel_launcher.py:1: SettingWithCopyWarning: \n",
            "A value is trying to be set on a copy of a slice from a DataFrame.\n",
            "Try using .loc[row_indexer,col_indexer] = value instead\n",
            "\n",
            "See the caveats in the documentation: https://pandas.pydata.org/pandas-docs/stable/user_guide/indexing.html#returning-a-view-versus-a-copy\n",
            "  \"\"\"Entry point for launching an IPython kernel.\n",
            "/usr/local/lib/python3.6/dist-packages/ipykernel_launcher.py:2: SettingWithCopyWarning: \n",
            "A value is trying to be set on a copy of a slice from a DataFrame.\n",
            "Try using .loc[row_indexer,col_indexer] = value instead\n",
            "\n",
            "See the caveats in the documentation: https://pandas.pydata.org/pandas-docs/stable/user_guide/indexing.html#returning-a-view-versus-a-copy\n",
            "  \n"
          ],
          "name": "stderr"
        }
      ]
    },
    {
      "cell_type": "code",
      "metadata": {
        "colab": {
          "base_uri": "https://localhost:8080/",
          "height": 0
        },
        "id": "XAI0OR5DB2Mw",
        "outputId": "24bd3e5d-ea05-41d2-b514-5e3acac32408"
      },
      "source": [
        "df_fifa['preferred_foot'] = df_fifa['preferred_foot'].replace(['Right', 'Left'], [0, 1])"
      ],
      "execution_count": 330,
      "outputs": [
        {
          "output_type": "stream",
          "text": [
            "/usr/local/lib/python3.6/dist-packages/ipykernel_launcher.py:1: SettingWithCopyWarning: \n",
            "A value is trying to be set on a copy of a slice from a DataFrame.\n",
            "Try using .loc[row_indexer,col_indexer] = value instead\n",
            "\n",
            "See the caveats in the documentation: https://pandas.pydata.org/pandas-docs/stable/user_guide/indexing.html#returning-a-view-versus-a-copy\n",
            "  \"\"\"Entry point for launching an IPython kernel.\n"
          ],
          "name": "stderr"
        }
      ]
    },
    {
      "cell_type": "code",
      "metadata": {
        "colab": {
          "base_uri": "https://localhost:8080/",
          "height": 0
        },
        "id": "z551o9S4DpLo",
        "outputId": "5ce9ea8f-f49a-47b7-89d7-3ba1dbd97192"
      },
      "source": [
        "# Ordenamos team_position según el value_eur medio asociado a cada posición antes del replace\n",
        "teampos_sort = df_fifa[['team_position', 'value_eur']].groupby('team_position', as_index=False)['value_eur'].mean().sort_values(by='value_eur')\n",
        "lpos = list(teampos_sort['team_position'])\n",
        "ipos = list(range(len(lpos)))\n",
        "df_fifa['team_position'] = df_fifa['team_position'].replace(lpos, ipos)"
      ],
      "execution_count": 331,
      "outputs": [
        {
          "output_type": "stream",
          "text": [
            "/usr/local/lib/python3.6/dist-packages/ipykernel_launcher.py:5: SettingWithCopyWarning: \n",
            "A value is trying to be set on a copy of a slice from a DataFrame.\n",
            "Try using .loc[row_indexer,col_indexer] = value instead\n",
            "\n",
            "See the caveats in the documentation: https://pandas.pydata.org/pandas-docs/stable/user_guide/indexing.html#returning-a-view-versus-a-copy\n",
            "  \"\"\"\n"
          ],
          "name": "stderr"
        }
      ]
    },
    {
      "cell_type": "code",
      "metadata": {
        "colab": {
          "base_uri": "https://localhost:8080/",
          "height": 241
        },
        "id": "h-2ZEuj1gJe-",
        "outputId": "9d37dabf-b44e-4dfc-c30b-1bf17d9c6a99"
      },
      "source": [
        "df_fifa.head()"
      ],
      "execution_count": 332,
      "outputs": [
        {
          "output_type": "execute_result",
          "data": {
            "text/html": [
              "<div>\n",
              "<style scoped>\n",
              "    .dataframe tbody tr th:only-of-type {\n",
              "        vertical-align: middle;\n",
              "    }\n",
              "\n",
              "    .dataframe tbody tr th {\n",
              "        vertical-align: top;\n",
              "    }\n",
              "\n",
              "    .dataframe thead th {\n",
              "        text-align: right;\n",
              "    }\n",
              "</style>\n",
              "<table border=\"1\" class=\"dataframe\">\n",
              "  <thead>\n",
              "    <tr style=\"text-align: right;\">\n",
              "      <th></th>\n",
              "      <th>short_name</th>\n",
              "      <th>overall</th>\n",
              "      <th>age</th>\n",
              "      <th>potential</th>\n",
              "      <th>preferred_foot</th>\n",
              "      <th>international_reputation</th>\n",
              "      <th>team_position</th>\n",
              "      <th>wage_eur</th>\n",
              "      <th>value_eur</th>\n",
              "    </tr>\n",
              "  </thead>\n",
              "  <tbody>\n",
              "    <tr>\n",
              "      <th>0</th>\n",
              "      <td>L. Messi</td>\n",
              "      <td>94</td>\n",
              "      <td>32</td>\n",
              "      <td>94</td>\n",
              "      <td>1</td>\n",
              "      <td>5</td>\n",
              "      <td>27.0</td>\n",
              "      <td>565.0</td>\n",
              "      <td>95.5</td>\n",
              "    </tr>\n",
              "    <tr>\n",
              "      <th>1</th>\n",
              "      <td>Cristiano Ronaldo</td>\n",
              "      <td>93</td>\n",
              "      <td>34</td>\n",
              "      <td>93</td>\n",
              "      <td>0</td>\n",
              "      <td>5</td>\n",
              "      <td>26.0</td>\n",
              "      <td>405.0</td>\n",
              "      <td>58.5</td>\n",
              "    </tr>\n",
              "    <tr>\n",
              "      <th>2</th>\n",
              "      <td>Neymar Jr</td>\n",
              "      <td>92</td>\n",
              "      <td>27</td>\n",
              "      <td>92</td>\n",
              "      <td>0</td>\n",
              "      <td>5</td>\n",
              "      <td>20.0</td>\n",
              "      <td>290.0</td>\n",
              "      <td>105.5</td>\n",
              "    </tr>\n",
              "    <tr>\n",
              "      <th>3</th>\n",
              "      <td>J. Oblak</td>\n",
              "      <td>91</td>\n",
              "      <td>26</td>\n",
              "      <td>93</td>\n",
              "      <td>0</td>\n",
              "      <td>3</td>\n",
              "      <td>12.0</td>\n",
              "      <td>125.0</td>\n",
              "      <td>77.5</td>\n",
              "    </tr>\n",
              "    <tr>\n",
              "      <th>4</th>\n",
              "      <td>E. Hazard</td>\n",
              "      <td>91</td>\n",
              "      <td>28</td>\n",
              "      <td>91</td>\n",
              "      <td>0</td>\n",
              "      <td>4</td>\n",
              "      <td>26.0</td>\n",
              "      <td>470.0</td>\n",
              "      <td>90.0</td>\n",
              "    </tr>\n",
              "  </tbody>\n",
              "</table>\n",
              "</div>"
            ],
            "text/plain": [
              "          short_name  overall  age  ...  team_position  wage_eur  value_eur\n",
              "0           L. Messi       94   32  ...           27.0     565.0       95.5\n",
              "1  Cristiano Ronaldo       93   34  ...           26.0     405.0       58.5\n",
              "2          Neymar Jr       92   27  ...           20.0     290.0      105.5\n",
              "3           J. Oblak       91   26  ...           12.0     125.0       77.5\n",
              "4          E. Hazard       91   28  ...           26.0     470.0       90.0\n",
              "\n",
              "[5 rows x 9 columns]"
            ]
          },
          "metadata": {
            "tags": []
          },
          "execution_count": 332
        }
      ]
    },
    {
      "cell_type": "code",
      "metadata": {
        "colab": {
          "base_uri": "https://localhost:8080/",
          "height": 317
        },
        "id": "A2dF1H99RIj-",
        "outputId": "38b99af6-a413-4a62-87b3-81cc883f733f"
      },
      "source": [
        "df_fifa.describe()"
      ],
      "execution_count": 333,
      "outputs": [
        {
          "output_type": "execute_result",
          "data": {
            "text/html": [
              "<div>\n",
              "<style scoped>\n",
              "    .dataframe tbody tr th:only-of-type {\n",
              "        vertical-align: middle;\n",
              "    }\n",
              "\n",
              "    .dataframe tbody tr th {\n",
              "        vertical-align: top;\n",
              "    }\n",
              "\n",
              "    .dataframe thead th {\n",
              "        text-align: right;\n",
              "    }\n",
              "</style>\n",
              "<table border=\"1\" class=\"dataframe\">\n",
              "  <thead>\n",
              "    <tr style=\"text-align: right;\">\n",
              "      <th></th>\n",
              "      <th>overall</th>\n",
              "      <th>age</th>\n",
              "      <th>potential</th>\n",
              "      <th>preferred_foot</th>\n",
              "      <th>international_reputation</th>\n",
              "      <th>team_position</th>\n",
              "      <th>wage_eur</th>\n",
              "      <th>value_eur</th>\n",
              "    </tr>\n",
              "  </thead>\n",
              "  <tbody>\n",
              "    <tr>\n",
              "      <th>count</th>\n",
              "      <td>18278.000000</td>\n",
              "      <td>18278.000000</td>\n",
              "      <td>18278.000000</td>\n",
              "      <td>18278.000000</td>\n",
              "      <td>18278.000000</td>\n",
              "      <td>18038.000000</td>\n",
              "      <td>18278.000000</td>\n",
              "      <td>18278.000000</td>\n",
              "    </tr>\n",
              "    <tr>\n",
              "      <th>mean</th>\n",
              "      <td>66.244994</td>\n",
              "      <td>25.283291</td>\n",
              "      <td>71.546887</td>\n",
              "      <td>0.236240</td>\n",
              "      <td>1.103184</td>\n",
              "      <td>5.473500</td>\n",
              "      <td>9.456943</td>\n",
              "      <td>2.484038</td>\n",
              "    </tr>\n",
              "    <tr>\n",
              "      <th>std</th>\n",
              "      <td>6.949953</td>\n",
              "      <td>4.656964</td>\n",
              "      <td>6.139669</td>\n",
              "      <td>0.424783</td>\n",
              "      <td>0.378861</td>\n",
              "      <td>6.922731</td>\n",
              "      <td>21.351714</td>\n",
              "      <td>5.585481</td>\n",
              "    </tr>\n",
              "    <tr>\n",
              "      <th>min</th>\n",
              "      <td>48.000000</td>\n",
              "      <td>16.000000</td>\n",
              "      <td>49.000000</td>\n",
              "      <td>0.000000</td>\n",
              "      <td>1.000000</td>\n",
              "      <td>0.000000</td>\n",
              "      <td>0.000000</td>\n",
              "      <td>0.000000</td>\n",
              "    </tr>\n",
              "    <tr>\n",
              "      <th>25%</th>\n",
              "      <td>62.000000</td>\n",
              "      <td>22.000000</td>\n",
              "      <td>67.000000</td>\n",
              "      <td>0.000000</td>\n",
              "      <td>1.000000</td>\n",
              "      <td>1.000000</td>\n",
              "      <td>1.000000</td>\n",
              "      <td>0.325000</td>\n",
              "    </tr>\n",
              "    <tr>\n",
              "      <th>50%</th>\n",
              "      <td>66.000000</td>\n",
              "      <td>25.000000</td>\n",
              "      <td>71.000000</td>\n",
              "      <td>0.000000</td>\n",
              "      <td>1.000000</td>\n",
              "      <td>1.000000</td>\n",
              "      <td>3.000000</td>\n",
              "      <td>0.700000</td>\n",
              "    </tr>\n",
              "    <tr>\n",
              "      <th>75%</th>\n",
              "      <td>71.000000</td>\n",
              "      <td>29.000000</td>\n",
              "      <td>75.000000</td>\n",
              "      <td>0.000000</td>\n",
              "      <td>1.000000</td>\n",
              "      <td>10.000000</td>\n",
              "      <td>8.000000</td>\n",
              "      <td>2.100000</td>\n",
              "    </tr>\n",
              "    <tr>\n",
              "      <th>max</th>\n",
              "      <td>94.000000</td>\n",
              "      <td>42.000000</td>\n",
              "      <td>95.000000</td>\n",
              "      <td>1.000000</td>\n",
              "      <td>5.000000</td>\n",
              "      <td>28.000000</td>\n",
              "      <td>565.000000</td>\n",
              "      <td>105.500000</td>\n",
              "    </tr>\n",
              "  </tbody>\n",
              "</table>\n",
              "</div>"
            ],
            "text/plain": [
              "            overall           age  ...      wage_eur     value_eur\n",
              "count  18278.000000  18278.000000  ...  18278.000000  18278.000000\n",
              "mean      66.244994     25.283291  ...      9.456943      2.484038\n",
              "std        6.949953      4.656964  ...     21.351714      5.585481\n",
              "min       48.000000     16.000000  ...      0.000000      0.000000\n",
              "25%       62.000000     22.000000  ...      1.000000      0.325000\n",
              "50%       66.000000     25.000000  ...      3.000000      0.700000\n",
              "75%       71.000000     29.000000  ...      8.000000      2.100000\n",
              "max       94.000000     42.000000  ...    565.000000    105.500000\n",
              "\n",
              "[8 rows x 8 columns]"
            ]
          },
          "metadata": {
            "tags": []
          },
          "execution_count": 333
        }
      ]
    },
    {
      "cell_type": "markdown",
      "metadata": {
        "id": "zIBXpa8HRYuB"
      },
      "source": [
        "### Comprobamos y resolvemos posibles valores ausentes en estas variables antes de continuar."
      ]
    },
    {
      "cell_type": "code",
      "metadata": {
        "colab": {
          "base_uri": "https://localhost:8080/",
          "height": 0
        },
        "id": "XtHNsuX3RYuB",
        "outputId": "7412fcb6-c2d4-492a-da34-82878db37540"
      },
      "source": [
        "df_fifa.isnull().any()\n"
      ],
      "execution_count": 334,
      "outputs": [
        {
          "output_type": "execute_result",
          "data": {
            "text/plain": [
              "short_name                  False\n",
              "overall                     False\n",
              "age                         False\n",
              "potential                   False\n",
              "preferred_foot              False\n",
              "international_reputation    False\n",
              "team_position                True\n",
              "wage_eur                    False\n",
              "value_eur                   False\n",
              "dtype: bool"
            ]
          },
          "metadata": {
            "tags": []
          },
          "execution_count": 334
        }
      ]
    },
    {
      "cell_type": "code",
      "metadata": {
        "colab": {
          "base_uri": "https://localhost:8080/",
          "height": 0
        },
        "id": "AflzHL4lcGMK",
        "outputId": "8e92a8a3-b6b7-4091-fd89-3abaa9d47ddf"
      },
      "source": [
        "df_fifa.loc[df_fifa['team_position'].isnull()].shape"
      ],
      "execution_count": 335,
      "outputs": [
        {
          "output_type": "execute_result",
          "data": {
            "text/plain": [
              "(240, 9)"
            ]
          },
          "metadata": {
            "tags": []
          },
          "execution_count": 335
        }
      ]
    },
    {
      "cell_type": "markdown",
      "metadata": {
        "id": "q9y2a8ZFlycd"
      },
      "source": [
        "Decidimos eliminar los registros con valores NaN en team_position. Son muy pocos comparados con el total. "
      ]
    },
    {
      "cell_type": "code",
      "metadata": {
        "colab": {
          "base_uri": "https://localhost:8080/",
          "height": 0
        },
        "id": "o7CDlh_jjcKR",
        "outputId": "557fcb9a-6fc8-45f0-d30c-62dcb78cd21c"
      },
      "source": [
        "df_fifa.dropna(inplace=True)"
      ],
      "execution_count": 336,
      "outputs": [
        {
          "output_type": "stream",
          "text": [
            "/usr/local/lib/python3.6/dist-packages/ipykernel_launcher.py:1: SettingWithCopyWarning: \n",
            "A value is trying to be set on a copy of a slice from a DataFrame\n",
            "\n",
            "See the caveats in the documentation: https://pandas.pydata.org/pandas-docs/stable/user_guide/indexing.html#returning-a-view-versus-a-copy\n",
            "  \"\"\"Entry point for launching an IPython kernel.\n"
          ],
          "name": "stderr"
        }
      ]
    },
    {
      "cell_type": "code",
      "metadata": {
        "colab": {
          "base_uri": "https://localhost:8080/",
          "height": 0
        },
        "id": "5l9I52oFmgeP",
        "outputId": "f82e64b5-16c6-426c-a2bc-01d21059f893"
      },
      "source": [
        "df_fifa.shape"
      ],
      "execution_count": 337,
      "outputs": [
        {
          "output_type": "execute_result",
          "data": {
            "text/plain": [
              "(18038, 9)"
            ]
          },
          "metadata": {
            "tags": []
          },
          "execution_count": 337
        }
      ]
    },
    {
      "cell_type": "code",
      "metadata": {
        "colab": {
          "base_uri": "https://localhost:8080/",
          "height": 0
        },
        "id": "m89E4RoMKZyu",
        "outputId": "7bea07ef-bddc-4582-b0da-770d40f15b2f"
      },
      "source": [
        "# team_position as int\n",
        "df_fifa['team_position'] = df_fifa['team_position'].astype(int)"
      ],
      "execution_count": 338,
      "outputs": [
        {
          "output_type": "stream",
          "text": [
            "/usr/local/lib/python3.6/dist-packages/ipykernel_launcher.py:2: SettingWithCopyWarning: \n",
            "A value is trying to be set on a copy of a slice from a DataFrame.\n",
            "Try using .loc[row_indexer,col_indexer] = value instead\n",
            "\n",
            "See the caveats in the documentation: https://pandas.pydata.org/pandas-docs/stable/user_guide/indexing.html#returning-a-view-versus-a-copy\n",
            "  \n"
          ],
          "name": "stderr"
        }
      ]
    },
    {
      "cell_type": "code",
      "metadata": {
        "colab": {
          "base_uri": "https://localhost:8080/",
          "height": 0
        },
        "id": "BGnMzQXVj5Gl",
        "outputId": "b23524dc-d7bb-47ea-f9d6-a125e14ae62c"
      },
      "source": [
        "df_fifa.info()"
      ],
      "execution_count": 339,
      "outputs": [
        {
          "output_type": "stream",
          "text": [
            "<class 'pandas.core.frame.DataFrame'>\n",
            "Int64Index: 18038 entries, 0 to 18277\n",
            "Data columns (total 9 columns):\n",
            " #   Column                    Non-Null Count  Dtype  \n",
            "---  ------                    --------------  -----  \n",
            " 0   short_name                18038 non-null  object \n",
            " 1   overall                   18038 non-null  int64  \n",
            " 2   age                       18038 non-null  int64  \n",
            " 3   potential                 18038 non-null  int64  \n",
            " 4   preferred_foot            18038 non-null  int64  \n",
            " 5   international_reputation  18038 non-null  int64  \n",
            " 6   team_position             18038 non-null  int64  \n",
            " 7   wage_eur                  18038 non-null  float64\n",
            " 8   value_eur                 18038 non-null  float64\n",
            "dtypes: float64(2), int64(6), object(1)\n",
            "memory usage: 1.4+ MB\n"
          ],
          "name": "stdout"
        }
      ]
    },
    {
      "cell_type": "markdown",
      "metadata": {
        "id": "oQBoym4NRYuB"
      },
      "source": [
        "### Visualización de datos. Nos permitirá conocer de un vistazo el comportamiento de las distintas variables y su relación especialmente con la variable target (value_eur = precio del jugador)."
      ]
    },
    {
      "cell_type": "markdown",
      "metadata": {
        "id": "-l23cQgXRYuB"
      },
      "source": [
        "#### Primero vamos a visualizar el histograma de las principales variables que vamos a usar en los modelos para ver cómo se distribuyen"
      ]
    },
    {
      "cell_type": "markdown",
      "metadata": {
        "id": "MjzHjv6_RYuB"
      },
      "source": [
        "Histogramas de las variables value_eur, overall, wage_eur, team_position"
      ]
    },
    {
      "cell_type": "code",
      "metadata": {
        "colab": {
          "base_uri": "https://localhost:8080/",
          "height": 296
        },
        "id": "tx8BKwvhRYuB",
        "outputId": "4569785d-8a37-4209-982a-5f33b7e27356"
      },
      "source": [
        "fig, (ax1, ax2, ax3) = plt.subplots(nrows= 1,ncols = 3, figsize=(10,4)) \n",
        "\n",
        "ax1.hist(df_fifa.value_eur, label = ['value_eur'], edgecolor='black', bins=20)  \n",
        "ax1.legend(loc=0)\n",
        "ax1.set_title('Clasificación por value_eur')\n",
        "ax1.set_xlabel('value_eur')\n",
        "ax1.set_ylabel('Frecuencia')\n",
        "\n",
        "ax2.hist(df_fifa.overall, label = ['overall'], edgecolor='black', bins=20)  \n",
        "ax2.legend(loc=0)\n",
        "ax2.set_title('Clasificación por overall')\n",
        "ax2.set_xlabel('overall')\n",
        "ax2.set_ylabel('Frecuencia')\n",
        "\n",
        "ax3.hist(df_fifa.wage_eur, label = ['wage_eur'], edgecolor='black', bins=20)  \n",
        "ax3.legend(loc=0)\n",
        "ax3.set_title('Clasificación por wage_eur')\n",
        "ax3.set_xlabel('wage_eur')\n",
        "ax3.set_ylabel('Frecuencia')\n",
        "\n",
        "None\n",
        "\n"
      ],
      "execution_count": 340,
      "outputs": [
        {
          "output_type": "display_data",
          "data": {
            "image/png": "[encoded data removed]",
            "text/plain": [
              "<Figure size 720x288 with 3 Axes>"
            ]
          },
          "metadata": {
            "tags": [],
            "needs_background": "light"
          }
        }
      ]
    },
    {
      "cell_type": "markdown",
      "metadata": {
        "id": "QjHdEbctK12F"
      },
      "source": [
        "Se ve que la variable wage_eur tiene una distribución similar a value_eur"
      ]
    },
    {
      "cell_type": "markdown",
      "metadata": {
        "id": "_qbQz69LsF7C"
      },
      "source": [
        "Histogramas de las variables age, potential, preferred_foot international_reputation, "
      ]
    },
    {
      "cell_type": "code",
      "metadata": {
        "colab": {
          "base_uri": "https://localhost:8080/",
          "height": 296
        },
        "id": "zEoASWi1sJIn",
        "outputId": "8e0c4ea1-066a-4457-dd88-4a1f3586e318"
      },
      "source": [
        "fig, (ax4, ax5, ax6) = plt.subplots(nrows= 1,ncols = 3, figsize=(10,4)) \n",
        "\n",
        "ax4.hist(df_fifa.team_position, label = ['team_position'], edgecolor='black', bins=20)  \n",
        "ax4.legend(loc=0)\n",
        "ax4.set_title('Clasificación por team_position')\n",
        "ax4.set_xlabel('team_position')\n",
        "ax4.set_ylabel('Frecuencia')\n",
        "\n",
        "ax5.hist(df_fifa.age, label = ['age'], edgecolor='black', bins=20)  \n",
        "ax5.legend(loc=0)\n",
        "ax5.set_title('Clasificación por age')\n",
        "ax5.set_xlabel('age')\n",
        "ax5.set_ylabel('Frecuencia')\n",
        "\n",
        "ax6.hist(df_fifa.potential, label = ['potential'], edgecolor='black', bins=20)  \n",
        "ax6.legend(loc=0)\n",
        "ax6.set_title('Clasificación por potential')\n",
        "ax6.set_xlabel('potential')\n",
        "ax6.set_ylabel('Frecuencia')\n",
        "\n",
        "None"
      ],
      "execution_count": 341,
      "outputs": [
        {
          "output_type": "display_data",
          "data": {
            "image/png": "[encoded data removed]",
            "text/plain": [
              "<Figure size 720x288 with 3 Axes>"
            ]
          },
          "metadata": {
            "tags": [],
            "needs_background": "light"
          }
        }
      ]
    },
    {
      "cell_type": "markdown",
      "metadata": {
        "id": "11Xf5QHfLQT_"
      },
      "source": [
        "Se ve que la variable potential tiene una distribución similar a overall"
      ]
    },
    {
      "cell_type": "markdown",
      "metadata": {
        "id": "GnWJAMrPw-tX"
      },
      "source": [
        "#### Gráfico de dispersión de la variable value_eur, que es la variable Y, con respecto a las variables  wage_eur, team_position, overall y potential."
      ]
    },
    {
      "cell_type": "code",
      "metadata": {
        "colab": {
          "base_uri": "https://localhost:8080/",
          "height": 295
        },
        "id": "U7FmdGzvSo8v",
        "outputId": "367a51cb-d67e-4615-a7bb-ce950ebdc0a5"
      },
      "source": [
        "plot = plt.scatter(df_fifa.wage_eur, df_fifa.value_eur)\n",
        "plt.xlabel('wage_eur')\n",
        "plt.ylabel('value_eur')\n",
        "plt.title('value_eur vs wage_eur')\n",
        "plt.show()"
      ],
      "execution_count": 342,
      "outputs": [
        {
          "output_type": "display_data",
          "data": {
            "image/png": "[encoded data removed]",
            "text/plain": [
              "<Figure size 432x288 with 1 Axes>"
            ]
          },
          "metadata": {
            "tags": [],
            "needs_background": "light"
          }
        }
      ]
    },
    {
      "cell_type": "markdown",
      "metadata": {
        "id": "xZXi4dzlSrnC"
      },
      "source": [
        "Se ve la correlacion positiva existente."
      ]
    },
    {
      "cell_type": "code",
      "metadata": {
        "colab": {
          "base_uri": "https://localhost:8080/",
          "height": 296
        },
        "id": "E2iksKZVS4W_",
        "outputId": "ed82c3d6-c9c3-45c8-c512-5b7e92927ad9"
      },
      "source": [
        "plot = plt.scatter(df_fifa.team_position, df_fifa.value_eur)\n",
        "plt.xlabel('team_position')\n",
        "plt.ylabel('value_eur')\n",
        "plt.title('value_eur vs team_position')\n",
        "plt.show()"
      ],
      "execution_count": 343,
      "outputs": [
        {
          "output_type": "display_data",
          "data": {
            "image/png": "[encoded data removed]",
            "text/plain": [
              "<Figure size 432x288 with 1 Axes>"
            ]
          },
          "metadata": {
            "tags": [],
            "needs_background": "light"
          }
        }
      ]
    },
    {
      "cell_type": "code",
      "metadata": {
        "colab": {
          "base_uri": "https://localhost:8080/",
          "height": 295
        },
        "id": "XkPlnJzhxmq9",
        "outputId": "16eef47f-3887-4a76-f4cd-344b7e6654dd"
      },
      "source": [
        "plot = plt.scatter(df_fifa.overall, df_fifa.value_eur)\n",
        "plt.xlabel('overall')\n",
        "plt.ylabel('value_eur')\n",
        "plt.title('value_eur vs overall')\n",
        "plt.show()"
      ],
      "execution_count": 344,
      "outputs": [
        {
          "output_type": "display_data",
          "data": {
            "image/png": "[encoded data removed]",
            "text/plain": [
              "<Figure size 432x288 with 1 Axes>"
            ]
          },
          "metadata": {
            "tags": [],
            "needs_background": "light"
          }
        }
      ]
    },
    {
      "cell_type": "code",
      "metadata": {
        "colab": {
          "base_uri": "https://localhost:8080/",
          "height": 295
        },
        "id": "s8r_UV_Ty2mK",
        "outputId": "7fdf60b8-baeb-4364-bc5c-0538ce9ea544"
      },
      "source": [
        "plot = plt.scatter(df_fifa.potential, df_fifa.value_eur)\n",
        "plt.xlabel('potential')\n",
        "plt.ylabel('value_eur')\n",
        "plt.title('value_eur vs potential')\n",
        "plt.show()"
      ],
      "execution_count": 345,
      "outputs": [
        {
          "output_type": "display_data",
          "data": {
            "image/png": "[encoded data removed]",
            "text/plain": [
              "<Figure size 432x288 with 1 Axes>"
            ]
          },
          "metadata": {
            "tags": [],
            "needs_background": "light"
          }
        }
      ]
    },
    {
      "cell_type": "markdown",
      "metadata": {
        "id": "jwF492EZ6yLy"
      },
      "source": [
        "Se observa cómo  valores de overall o potential menores que 70 no tienen prácticamente impacto en el precio del jugador. **Por tanto, vamos a centrarnos en los jugadores cuyo overall y potential es mayor o igual a 70.** Son los jugadores que nos pueden interesar con vistas a posible traspasos. Quedan más de 5.500. "
      ]
    },
    {
      "cell_type": "code",
      "metadata": {
        "id": "L8sYkC3k6o3I",
        "colab": {
          "base_uri": "https://localhost:8080/",
          "height": 0
        },
        "outputId": "c1ca3dd8-2896-47f3-c7c1-7a223a9c6752"
      },
      "source": [
        "df_fifa = df_fifa[(df_fifa['overall'] >= 70) & (df_fifa['potential'] >= 70)]\n",
        "df_fifa.shape"
      ],
      "execution_count": 346,
      "outputs": [
        {
          "output_type": "execute_result",
          "data": {
            "text/plain": [
              "(5542, 9)"
            ]
          },
          "metadata": {
            "tags": []
          },
          "execution_count": 346
        }
      ]
    },
    {
      "cell_type": "markdown",
      "metadata": {
        "id": "RYxfIwr21x3X"
      },
      "source": [
        "#### Correlación entre las variables"
      ]
    },
    {
      "cell_type": "code",
      "metadata": {
        "id": "Jlna56AM2B7t"
      },
      "source": [
        "import seaborn as sns"
      ],
      "execution_count": 347,
      "outputs": []
    },
    {
      "cell_type": "markdown",
      "metadata": {
        "id": "z9Qq6mxN3u_4"
      },
      "source": [
        "Matriz de correlación:"
      ]
    },
    {
      "cell_type": "code",
      "metadata": {
        "colab": {
          "base_uri": "https://localhost:8080/",
          "height": 317
        },
        "id": "DA0BLqBr2MhT",
        "outputId": "d470f261-cc9c-42ab-845b-2d9efc4b74b9"
      },
      "source": [
        "corr = df_fifa.corr()\n",
        "corr"
      ],
      "execution_count": 348,
      "outputs": [
        {
          "output_type": "execute_result",
          "data": {
            "text/html": [
              "<div>\n",
              "<style scoped>\n",
              "    .dataframe tbody tr th:only-of-type {\n",
              "        vertical-align: middle;\n",
              "    }\n",
              "\n",
              "    .dataframe tbody tr th {\n",
              "        vertical-align: top;\n",
              "    }\n",
              "\n",
              "    .dataframe thead th {\n",
              "        text-align: right;\n",
              "    }\n",
              "</style>\n",
              "<table border=\"1\" class=\"dataframe\">\n",
              "  <thead>\n",
              "    <tr style=\"text-align: right;\">\n",
              "      <th></th>\n",
              "      <th>overall</th>\n",
              "      <th>age</th>\n",
              "      <th>potential</th>\n",
              "      <th>preferred_foot</th>\n",
              "      <th>international_reputation</th>\n",
              "      <th>team_position</th>\n",
              "      <th>wage_eur</th>\n",
              "      <th>value_eur</th>\n",
              "    </tr>\n",
              "  </thead>\n",
              "  <tbody>\n",
              "    <tr>\n",
              "      <th>overall</th>\n",
              "      <td>1.000000</td>\n",
              "      <td>0.046700</td>\n",
              "      <td>0.722616</td>\n",
              "      <td>-0.002887</td>\n",
              "      <td>0.639942</td>\n",
              "      <td>0.144606</td>\n",
              "      <td>0.723950</td>\n",
              "      <td>0.846558</td>\n",
              "    </tr>\n",
              "    <tr>\n",
              "      <th>age</th>\n",
              "      <td>0.046700</td>\n",
              "      <td>1.000000</td>\n",
              "      <td>-0.535219</td>\n",
              "      <td>-0.040650</td>\n",
              "      <td>0.280411</td>\n",
              "      <td>0.061815</td>\n",
              "      <td>-0.005481</td>\n",
              "      <td>-0.179240</td>\n",
              "    </tr>\n",
              "    <tr>\n",
              "      <th>potential</th>\n",
              "      <td>0.722616</td>\n",
              "      <td>-0.535219</td>\n",
              "      <td>1.000000</td>\n",
              "      <td>0.004628</td>\n",
              "      <td>0.335178</td>\n",
              "      <td>0.065827</td>\n",
              "      <td>0.530500</td>\n",
              "      <td>0.724903</td>\n",
              "    </tr>\n",
              "    <tr>\n",
              "      <th>preferred_foot</th>\n",
              "      <td>-0.002887</td>\n",
              "      <td>-0.040650</td>\n",
              "      <td>0.004628</td>\n",
              "      <td>1.000000</td>\n",
              "      <td>-0.016607</td>\n",
              "      <td>-0.016132</td>\n",
              "      <td>0.012907</td>\n",
              "      <td>0.012557</td>\n",
              "    </tr>\n",
              "    <tr>\n",
              "      <th>international_reputation</th>\n",
              "      <td>0.639942</td>\n",
              "      <td>0.280411</td>\n",
              "      <td>0.335178</td>\n",
              "      <td>-0.016607</td>\n",
              "      <td>1.000000</td>\n",
              "      <td>0.067684</td>\n",
              "      <td>0.597067</td>\n",
              "      <td>0.545712</td>\n",
              "    </tr>\n",
              "    <tr>\n",
              "      <th>team_position</th>\n",
              "      <td>0.144606</td>\n",
              "      <td>0.061815</td>\n",
              "      <td>0.065827</td>\n",
              "      <td>-0.016132</td>\n",
              "      <td>0.067684</td>\n",
              "      <td>1.000000</td>\n",
              "      <td>0.035516</td>\n",
              "      <td>0.159200</td>\n",
              "    </tr>\n",
              "    <tr>\n",
              "      <th>wage_eur</th>\n",
              "      <td>0.723950</td>\n",
              "      <td>-0.005481</td>\n",
              "      <td>0.530500</td>\n",
              "      <td>0.012907</td>\n",
              "      <td>0.597067</td>\n",
              "      <td>0.035516</td>\n",
              "      <td>1.000000</td>\n",
              "      <td>0.816117</td>\n",
              "    </tr>\n",
              "    <tr>\n",
              "      <th>value_eur</th>\n",
              "      <td>0.846558</td>\n",
              "      <td>-0.179240</td>\n",
              "      <td>0.724903</td>\n",
              "      <td>0.012557</td>\n",
              "      <td>0.545712</td>\n",
              "      <td>0.159200</td>\n",
              "      <td>0.816117</td>\n",
              "      <td>1.000000</td>\n",
              "    </tr>\n",
              "  </tbody>\n",
              "</table>\n",
              "</div>"
            ],
            "text/plain": [
              "                           overall       age  ...  wage_eur  value_eur\n",
              "overall                   1.000000  0.046700  ...  0.723950   0.846558\n",
              "age                       0.046700  1.000000  ... -0.005481  -0.179240\n",
              "potential                 0.722616 -0.535219  ...  0.530500   0.724903\n",
              "preferred_foot           -0.002887 -0.040650  ...  0.012907   0.012557\n",
              "international_reputation  0.639942  0.280411  ...  0.597067   0.545712\n",
              "team_position             0.144606  0.061815  ...  0.035516   0.159200\n",
              "wage_eur                  0.723950 -0.005481  ...  1.000000   0.816117\n",
              "value_eur                 0.846558 -0.179240  ...  0.816117   1.000000\n",
              "\n",
              "[8 rows x 8 columns]"
            ]
          },
          "metadata": {
            "tags": []
          },
          "execution_count": 348
        }
      ]
    },
    {
      "cell_type": "code",
      "metadata": {
        "colab": {
          "base_uri": "https://localhost:8080/",
          "height": 397
        },
        "id": "zxwo9sz32_Kh",
        "outputId": "cf9a9e0c-6474-488f-fe21-c1053ab53a8a"
      },
      "source": [
        "sns.heatmap(corr)"
      ],
      "execution_count": 349,
      "outputs": [
        {
          "output_type": "execute_result",
          "data": {
            "text/plain": [
              "<matplotlib.axes._subplots.AxesSubplot at 0x7f322a237518>"
            ]
          },
          "metadata": {
            "tags": []
          },
          "execution_count": 349
        },
        {
          "output_type": "display_data",
          "data": {
            "image/png": "[encoded data removed]",
            "text/plain": [
              "<Figure size 432x288 with 2 Axes>"
            ]
          },
          "metadata": {
            "tags": [],
            "needs_background": "light"
          }
        }
      ]
    },
    {
      "cell_type": "markdown",
      "metadata": {
        "id": "Y0l6Si1m3yiN"
      },
      "source": [
        "Se muestra la correlación entre las distintas variables, y fijándonos en la variable target value_eur se observa una correlación alta con con overall, wage_eur y potential, media-alta con international_reputation, baja con age y team_position y casi nula con preferred_foot. Se observa como la correlación con age es negativa (a partir de una edad cuanto mayor sea un jugador su precio descenderá)"
      ]
    },
    {
      "cell_type": "markdown",
      "metadata": {
        "id": "Kau1blVDXSf5"
      },
      "source": [
        "## PASO 3: Creación y Entrenamiento del Modelo (Regresión Lineal Múltiple)"
      ]
    },
    {
      "cell_type": "code",
      "metadata": {
        "id": "kSQTFVffXnCp"
      },
      "source": [
        "from sklearn.model_selection import train_test_split\n",
        "from sklearn import linear_model\n",
        "from sklearn.linear_model import LinearRegression"
      ],
      "execution_count": 350,
      "outputs": []
    },
    {
      "cell_type": "code",
      "metadata": {
        "id": "DtLns4Nt5nS7"
      },
      "source": [
        "# Creating Predictor variable 'X' and Target Variable 'Y'\n",
        "# X contains all the features except for the target value_eur and short_name\n",
        "X = df_fifa.drop(['short_name', 'value_eur'], axis = 1)\n",
        "Y = df_fifa['value_eur']"
      ],
      "execution_count": 351,
      "outputs": []
    },
    {
      "cell_type": "code",
      "metadata": {
        "colab": {
          "base_uri": "https://localhost:8080/",
          "height": 0
        },
        "id": "J7gKBglU6Kbx",
        "outputId": "aa6aeda5-f525-4f46-cc6e-07e113f6de6e"
      },
      "source": [
        "print(X.shape)\n",
        "print(Y.shape)"
      ],
      "execution_count": 352,
      "outputs": [
        {
          "output_type": "stream",
          "text": [
            "(5542, 7)\n",
            "(5542,)\n"
          ],
          "name": "stdout"
        }
      ]
    },
    {
      "cell_type": "code",
      "metadata": {
        "colab": {
          "base_uri": "https://localhost:8080/",
          "height": 0
        },
        "id": "FmnQ0vW65d3E",
        "outputId": "ab125205-30d1-444a-c5ac-f6f3182c54b1"
      },
      "source": [
        "# Cogemos 70% datos para train y 30% para test. Fijo una semilla para poder reproducir.\n",
        "X_train, X_test, Y_train, Y_test = train_test_split(X,\n",
        "                                                    Y, \n",
        "                                                    test_size=0.3,\n",
        "                                                    random_state=0)\n",
        "\n",
        "print(X_train.shape)\n",
        "print(X_test.shape)"
      ],
      "execution_count": 353,
      "outputs": [
        {
          "output_type": "stream",
          "text": [
            "(3879, 7)\n",
            "(1663, 7)\n"
          ],
          "name": "stdout"
        }
      ]
    },
    {
      "cell_type": "code",
      "metadata": {
        "colab": {
          "base_uri": "https://localhost:8080/",
          "height": 204
        },
        "id": "g9U8CEIg9XfH",
        "outputId": "97065ae2-6259-44c5-dcca-1de1093e2add"
      },
      "source": [
        "X_train.head()"
      ],
      "execution_count": 354,
      "outputs": [
        {
          "output_type": "execute_result",
          "data": {
            "text/html": [
              "<div>\n",
              "<style scoped>\n",
              "    .dataframe tbody tr th:only-of-type {\n",
              "        vertical-align: middle;\n",
              "    }\n",
              "\n",
              "    .dataframe tbody tr th {\n",
              "        vertical-align: top;\n",
              "    }\n",
              "\n",
              "    .dataframe thead th {\n",
              "        text-align: right;\n",
              "    }\n",
              "</style>\n",
              "<table border=\"1\" class=\"dataframe\">\n",
              "  <thead>\n",
              "    <tr style=\"text-align: right;\">\n",
              "      <th></th>\n",
              "      <th>overall</th>\n",
              "      <th>age</th>\n",
              "      <th>potential</th>\n",
              "      <th>preferred_foot</th>\n",
              "      <th>international_reputation</th>\n",
              "      <th>team_position</th>\n",
              "      <th>wage_eur</th>\n",
              "    </tr>\n",
              "  </thead>\n",
              "  <tbody>\n",
              "    <tr>\n",
              "      <th>4514</th>\n",
              "      <td>71</td>\n",
              "      <td>36</td>\n",
              "      <td>71</td>\n",
              "      <td>0</td>\n",
              "      <td>1</td>\n",
              "      <td>12</td>\n",
              "      <td>5.0</td>\n",
              "    </tr>\n",
              "    <tr>\n",
              "      <th>5597</th>\n",
              "      <td>70</td>\n",
              "      <td>29</td>\n",
              "      <td>70</td>\n",
              "      <td>1</td>\n",
              "      <td>1</td>\n",
              "      <td>5</td>\n",
              "      <td>6.0</td>\n",
              "    </tr>\n",
              "    <tr>\n",
              "      <th>774</th>\n",
              "      <td>78</td>\n",
              "      <td>22</td>\n",
              "      <td>84</td>\n",
              "      <td>0</td>\n",
              "      <td>2</td>\n",
              "      <td>9</td>\n",
              "      <td>24.0</td>\n",
              "    </tr>\n",
              "    <tr>\n",
              "      <th>1723</th>\n",
              "      <td>75</td>\n",
              "      <td>24</td>\n",
              "      <td>80</td>\n",
              "      <td>0</td>\n",
              "      <td>1</td>\n",
              "      <td>4</td>\n",
              "      <td>21.0</td>\n",
              "    </tr>\n",
              "    <tr>\n",
              "      <th>1052</th>\n",
              "      <td>77</td>\n",
              "      <td>23</td>\n",
              "      <td>82</td>\n",
              "      <td>0</td>\n",
              "      <td>2</td>\n",
              "      <td>15</td>\n",
              "      <td>45.0</td>\n",
              "    </tr>\n",
              "  </tbody>\n",
              "</table>\n",
              "</div>"
            ],
            "text/plain": [
              "      overall  age  ...  team_position  wage_eur\n",
              "4514       71   36  ...             12       5.0\n",
              "5597       70   29  ...              5       6.0\n",
              "774        78   22  ...              9      24.0\n",
              "1723       75   24  ...              4      21.0\n",
              "1052       77   23  ...             15      45.0\n",
              "\n",
              "[5 rows x 7 columns]"
            ]
          },
          "metadata": {
            "tags": []
          },
          "execution_count": 354
        }
      ]
    },
    {
      "cell_type": "code",
      "metadata": {
        "colab": {
          "base_uri": "https://localhost:8080/",
          "height": 0
        },
        "id": "KVV-FHA5-B_k",
        "outputId": "92cfae86-46cc-4173-9549-df3a00611f0d"
      },
      "source": [
        "linear_reg = LinearRegression()\n",
        "# Train/fit the model to training data\n",
        "linear_reg.fit(X_train, Y_train)"
      ],
      "execution_count": 355,
      "outputs": [
        {
          "output_type": "execute_result",
          "data": {
            "text/plain": [
              "LinearRegression(copy_X=True, fit_intercept=True, n_jobs=None, normalize=False)"
            ]
          },
          "metadata": {
            "tags": []
          },
          "execution_count": 355
        }
      ]
    },
    {
      "cell_type": "markdown",
      "metadata": {
        "id": "6oZQMCdh-QA6"
      },
      "source": [
        "## PASO 4: Evaluar el rendimiento del modelo"
      ]
    },
    {
      "cell_type": "code",
      "metadata": {
        "colab": {
          "base_uri": "https://localhost:8080/",
          "height": 283
        },
        "id": "D_xT47KF-acS",
        "outputId": "97dc0a2b-c509-48df-a027-5c0267e8784a"
      },
      "source": [
        "# print the intercept\n",
        "print(linear_reg.intercept_)\n",
        "\n",
        "# Coefficients\n",
        "coeff_df = pd.DataFrame(linear_reg.coef_,\n",
        "                        X.columns,\n",
        "                        columns=['Coefficient'])\n",
        "coeff_df"
      ],
      "execution_count": 356,
      "outputs": [
        {
          "output_type": "stream",
          "text": [
            "-73.95287957326283\n"
          ],
          "name": "stdout"
        },
        {
          "output_type": "execute_result",
          "data": {
            "text/html": [
              "<div>\n",
              "<style scoped>\n",
              "    .dataframe tbody tr th:only-of-type {\n",
              "        vertical-align: middle;\n",
              "    }\n",
              "\n",
              "    .dataframe tbody tr th {\n",
              "        vertical-align: top;\n",
              "    }\n",
              "\n",
              "    .dataframe thead th {\n",
              "        text-align: right;\n",
              "    }\n",
              "</style>\n",
              "<table border=\"1\" class=\"dataframe\">\n",
              "  <thead>\n",
              "    <tr style=\"text-align: right;\">\n",
              "      <th></th>\n",
              "      <th>Coefficient</th>\n",
              "    </tr>\n",
              "  </thead>\n",
              "  <tbody>\n",
              "    <tr>\n",
              "      <th>overall</th>\n",
              "      <td>1.291167</td>\n",
              "    </tr>\n",
              "    <tr>\n",
              "      <th>age</th>\n",
              "      <td>-0.493476</td>\n",
              "    </tr>\n",
              "    <tr>\n",
              "      <th>potential</th>\n",
              "      <td>-0.062167</td>\n",
              "    </tr>\n",
              "    <tr>\n",
              "      <th>preferred_foot</th>\n",
              "      <td>-0.067497</td>\n",
              "    </tr>\n",
              "    <tr>\n",
              "      <th>international_reputation</th>\n",
              "      <td>0.084379</td>\n",
              "    </tr>\n",
              "    <tr>\n",
              "      <th>team_position</th>\n",
              "      <td>0.087770</td>\n",
              "    </tr>\n",
              "    <tr>\n",
              "      <th>wage_eur</th>\n",
              "      <td>0.106988</td>\n",
              "    </tr>\n",
              "  </tbody>\n",
              "</table>\n",
              "</div>"
            ],
            "text/plain": [
              "                          Coefficient\n",
              "overall                      1.291167\n",
              "age                         -0.493476\n",
              "potential                   -0.062167\n",
              "preferred_foot              -0.067497\n",
              "international_reputation     0.084379\n",
              "team_position                0.087770\n",
              "wage_eur                     0.106988"
            ]
          },
          "metadata": {
            "tags": []
          },
          "execution_count": 356
        }
      ]
    },
    {
      "cell_type": "markdown",
      "metadata": {
        "id": "TUdlvLEE-lDC"
      },
      "source": [
        "Interpretando los coeficientes:\n",
        "como ejemplo, manteniendo fijos los valores de las otras variables, un incremento de 1 en overall se traduce en un aumento de 1,29 millones de euros en value_eur (precio del jugador) \n"
      ]
    },
    {
      "cell_type": "markdown",
      "metadata": {
        "id": "DDPmmZWC_OaN"
      },
      "source": [
        "**Predicciones del Modelo**"
      ]
    },
    {
      "cell_type": "code",
      "metadata": {
        "id": "hpP83hYE_6uu"
      },
      "source": [
        "pred = linear_reg.predict(X_test)"
      ],
      "execution_count": 357,
      "outputs": []
    },
    {
      "cell_type": "code",
      "metadata": {
        "colab": {
          "base_uri": "https://localhost:8080/",
          "height": 282
        },
        "id": "fdEiwU-eABjg",
        "outputId": "3731b6da-3fa9-4d49-c8c1-fb5635d989a7"
      },
      "source": [
        "plt.scatter(Y_test, pred)\n",
        "plt.xlabel(\"value_eur\")\n",
        "plt.ylabel(\"value_eur estimado\")\n",
        "None"
      ],
      "execution_count": 358,
      "outputs": [
        {
          "output_type": "display_data",
          "data": {
            "image/png": "[encoded data removed]",
            "text/plain": [
              "<Figure size 432x288 with 1 Axes>"
            ]
          },
          "metadata": {
            "tags": [],
            "needs_background": "light"
          }
        }
      ]
    },
    {
      "cell_type": "markdown",
      "metadata": {
        "id": "3Qyr0UjwAXel"
      },
      "source": [
        "Se observa que hay una tendencia a una línea recta de pendiente casi 1, lo cual muestra que la predicción es razonablemente buena."
      ]
    },
    {
      "cell_type": "markdown",
      "metadata": {
        "id": "NGWZoDhbBDTb"
      },
      "source": [
        "**Métricas de Evaluación**\n",
        "<br>\n",
        "Mean Absolute Error (MAE), Mean Squared Error (MSE), Root Mean Squared Error (RMSE)"
      ]
    },
    {
      "cell_type": "code",
      "metadata": {
        "id": "OuBPaLrsBKE2"
      },
      "source": [
        "from sklearn.metrics import mean_absolute_error, mean_squared_error, r2_score, accuracy_score, confusion_matrix"
      ],
      "execution_count": 359,
      "outputs": []
    },
    {
      "cell_type": "code",
      "metadata": {
        "colab": {
          "base_uri": "https://localhost:8080/",
          "height": 0
        },
        "id": "EnoWAygLBNN4",
        "outputId": "32701e28-5ec7-4f61-b314-e073d1e0d3a6"
      },
      "source": [
        "print('Mean Absolute Error (MAE):', mean_absolute_error(Y_test, pred))\n",
        "print('Mean Squared Error (MSE):', mean_squared_error(Y_test, pred))\n",
        "print('Root Mean Squared Error (RMSE):', np.sqrt(mean_squared_error(Y_test, pred)))"
      ],
      "execution_count": 360,
      "outputs": [
        {
          "output_type": "stream",
          "text": [
            "Mean Absolute Error (MAE): 1.9798964066356564\n",
            "Mean Squared Error (MSE): 9.521697392866079\n",
            "Root Mean Squared Error (RMSE): 3.0857247759426114\n"
          ],
          "name": "stdout"
        }
      ]
    },
    {
      "cell_type": "code",
      "metadata": {
        "colab": {
          "base_uri": "https://localhost:8080/",
          "height": 0
        },
        "id": "mS7PHLy1Fx-J",
        "outputId": "d28ab341-047c-46cb-d558-12cb694aceb2"
      },
      "source": [
        "df_fifa.value_eur.mean()"
      ],
      "execution_count": 361,
      "outputs": [
        {
          "output_type": "execute_result",
          "data": {
            "text/plain": [
              "6.963336340671266"
            ]
          },
          "metadata": {
            "tags": []
          },
          "execution_count": 361
        }
      ]
    },
    {
      "cell_type": "markdown",
      "metadata": {
        "id": "IACDjw68DEba"
      },
      "source": [
        "Comentamos por ejemplo la métrica MAE: el error absoluto medio es de casi 2M€. Si lo comparamos con la media de value_eur que es 7M€ podemos concluir que el error es significativo pero no demasiado alto."
      ]
    },
    {
      "cell_type": "code",
      "metadata": {
        "colab": {
          "base_uri": "https://localhost:8080/",
          "height": 0
        },
        "id": "14N3NhAkFijY",
        "outputId": "1999dd5a-a472-4444-c24c-b018fd0d7916"
      },
      "source": [
        "r2 = r2_score(Y_test, pred)\n",
        "r2"
      ],
      "execution_count": 362,
      "outputs": [
        {
          "output_type": "execute_result",
          "data": {
            "text/plain": [
              "0.8564321749611044"
            ]
          },
          "metadata": {
            "tags": []
          },
          "execution_count": 362
        }
      ]
    },
    {
      "cell_type": "markdown",
      "metadata": {
        "id": "IUGZgPYtGI-a"
      },
      "source": [
        "Un valor bueno para R cuadrado, con lo cual podemos afirmar que nuestro modelo se ajusta razonablemente. El 85.6% de la variación de la variable dependiente (value_eur = precio del jugador) es explicada por el modelo."
      ]
    },
    {
      "cell_type": "code",
      "metadata": {
        "colab": {
          "base_uri": "https://localhost:8080/",
          "height": 0
        },
        "id": "kkKlpBOVGhev",
        "outputId": "eea28a38-e354-48eb-b754-910541543c31"
      },
      "source": [
        "from scipy import stats\n",
        "\n",
        "pearson_coef, p_value = stats.pearsonr(Y_test, pred)\n",
        "print(\"Pearson Correlation Coefficient: \", pearson_coef, \"and a P-value of:\", p_value)"
      ],
      "execution_count": 363,
      "outputs": [
        {
          "output_type": "stream",
          "text": [
            "Pearson Correlation Coefficient:  0.9270188270219331 and a P-value of: 0.0\n"
          ],
          "name": "stdout"
        }
      ]
    },
    {
      "cell_type": "markdown",
      "metadata": {
        "id": "MYWrwwp5HJuh"
      },
      "source": [
        "Se confirma que el modelo es adecuado con el coeficiente de correlación de Pearson de 0.93 y P-value = 0"
      ]
    },
    {
      "cell_type": "markdown",
      "metadata": {
        "id": "UDLHnqt_cSse"
      },
      "source": [
        "## PASO 5: Mejora del rendimiento del modelo"
      ]
    },
    {
      "cell_type": "markdown",
      "metadata": {
        "id": "u8kYB5FOcXHr"
      },
      "source": [
        "Probamos incluir una relacion no lineal entre las caracteristicas. Consideramos overall^2"
      ]
    },
    {
      "cell_type": "code",
      "metadata": {
        "colab": {
          "base_uri": "https://localhost:8080/",
          "height": 148
        },
        "id": "WG_GaC7xcfX7",
        "outputId": "075d6a8a-d4d3-41c8-b08c-b2b57e17f419"
      },
      "source": [
        "df_fifa_plus = df_fifa.copy()\n",
        "df_fifa_plus['overall2'] = df_fifa_plus['overall']**2\n",
        "df_fifa_plus.head(n=2)"
      ],
      "execution_count": 364,
      "outputs": [
        {
          "output_type": "execute_result",
          "data": {
            "text/html": [
              "<div>\n",
              "<style scoped>\n",
              "    .dataframe tbody tr th:only-of-type {\n",
              "        vertical-align: middle;\n",
              "    }\n",
              "\n",
              "    .dataframe tbody tr th {\n",
              "        vertical-align: top;\n",
              "    }\n",
              "\n",
              "    .dataframe thead th {\n",
              "        text-align: right;\n",
              "    }\n",
              "</style>\n",
              "<table border=\"1\" class=\"dataframe\">\n",
              "  <thead>\n",
              "    <tr style=\"text-align: right;\">\n",
              "      <th></th>\n",
              "      <th>short_name</th>\n",
              "      <th>overall</th>\n",
              "      <th>age</th>\n",
              "      <th>potential</th>\n",
              "      <th>preferred_foot</th>\n",
              "      <th>international_reputation</th>\n",
              "      <th>team_position</th>\n",
              "      <th>wage_eur</th>\n",
              "      <th>value_eur</th>\n",
              "      <th>overall2</th>\n",
              "    </tr>\n",
              "  </thead>\n",
              "  <tbody>\n",
              "    <tr>\n",
              "      <th>0</th>\n",
              "      <td>L. Messi</td>\n",
              "      <td>94</td>\n",
              "      <td>32</td>\n",
              "      <td>94</td>\n",
              "      <td>1</td>\n",
              "      <td>5</td>\n",
              "      <td>27</td>\n",
              "      <td>565.0</td>\n",
              "      <td>95.5</td>\n",
              "      <td>8836</td>\n",
              "    </tr>\n",
              "    <tr>\n",
              "      <th>1</th>\n",
              "      <td>Cristiano Ronaldo</td>\n",
              "      <td>93</td>\n",
              "      <td>34</td>\n",
              "      <td>93</td>\n",
              "      <td>0</td>\n",
              "      <td>5</td>\n",
              "      <td>26</td>\n",
              "      <td>405.0</td>\n",
              "      <td>58.5</td>\n",
              "      <td>8649</td>\n",
              "    </tr>\n",
              "  </tbody>\n",
              "</table>\n",
              "</div>"
            ],
            "text/plain": [
              "          short_name  overall  age  ...  wage_eur  value_eur  overall2\n",
              "0           L. Messi       94   32  ...     565.0       95.5      8836\n",
              "1  Cristiano Ronaldo       93   34  ...     405.0       58.5      8649\n",
              "\n",
              "[2 rows x 10 columns]"
            ]
          },
          "metadata": {
            "tags": []
          },
          "execution_count": 364
        }
      ]
    },
    {
      "cell_type": "code",
      "metadata": {
        "colab": {
          "base_uri": "https://localhost:8080/",
          "height": 0
        },
        "id": "i78c6cMddD1n",
        "outputId": "8329a6b9-b458-4c6f-ed9e-29f5ce3e2e75"
      },
      "source": [
        "X = df_fifa_plus.drop(['short_name', 'value_eur'], axis = 1)\n",
        "Y = df_fifa_plus['value_eur']\n",
        "X_train, X_test, Y_train, Y_test = train_test_split(X,\n",
        "                                                    Y, \n",
        "                                                    test_size=0.3,\n",
        "                                                    random_state=0)\n",
        "print(X_train.shape)\n",
        "print(X_test.shape)"
      ],
      "execution_count": 365,
      "outputs": [
        {
          "output_type": "stream",
          "text": [
            "(3879, 8)\n",
            "(1663, 8)\n"
          ],
          "name": "stdout"
        }
      ]
    },
    {
      "cell_type": "code",
      "metadata": {
        "colab": {
          "base_uri": "https://localhost:8080/",
          "height": 0
        },
        "id": "SITD2up6fJLS",
        "outputId": "ee513841-27fc-4a84-c922-218620c4841a"
      },
      "source": [
        "linear_reg_plus = LinearRegression()\n",
        "linear_reg_plus.fit(X_train, Y_train)"
      ],
      "execution_count": 366,
      "outputs": [
        {
          "output_type": "execute_result",
          "data": {
            "text/plain": [
              "LinearRegression(copy_X=True, fit_intercept=True, n_jobs=None, normalize=False)"
            ]
          },
          "metadata": {
            "tags": []
          },
          "execution_count": 366
        }
      ]
    },
    {
      "cell_type": "code",
      "metadata": {
        "colab": {
          "base_uri": "https://localhost:8080/",
          "height": 314
        },
        "id": "FPLu8sqyftSZ",
        "outputId": "9e2bde36-ef58-4e1d-cc0a-6141b27768eb"
      },
      "source": [
        "# print the intercept\n",
        "print(linear_reg_plus.intercept_)\n",
        "# Coefficients\n",
        "coeff_df = pd.DataFrame(linear_reg_plus.coef_,\n",
        "                        X.columns,\n",
        "                        columns=['Coefficient'])\n",
        "coeff_df"
      ],
      "execution_count": 367,
      "outputs": [
        {
          "output_type": "stream",
          "text": [
            "734.7572645462582\n"
          ],
          "name": "stdout"
        },
        {
          "output_type": "execute_result",
          "data": {
            "text/html": [
              "<div>\n",
              "<style scoped>\n",
              "    .dataframe tbody tr th:only-of-type {\n",
              "        vertical-align: middle;\n",
              "    }\n",
              "\n",
              "    .dataframe tbody tr th {\n",
              "        vertical-align: top;\n",
              "    }\n",
              "\n",
              "    .dataframe thead th {\n",
              "        text-align: right;\n",
              "    }\n",
              "</style>\n",
              "<table border=\"1\" class=\"dataframe\">\n",
              "  <thead>\n",
              "    <tr style=\"text-align: right;\">\n",
              "      <th></th>\n",
              "      <th>Coefficient</th>\n",
              "    </tr>\n",
              "  </thead>\n",
              "  <tbody>\n",
              "    <tr>\n",
              "      <th>overall</th>\n",
              "      <td>-20.276969</td>\n",
              "    </tr>\n",
              "    <tr>\n",
              "      <th>age</th>\n",
              "      <td>-0.521463</td>\n",
              "    </tr>\n",
              "    <tr>\n",
              "      <th>potential</th>\n",
              "      <td>-0.124059</td>\n",
              "    </tr>\n",
              "    <tr>\n",
              "      <th>preferred_foot</th>\n",
              "      <td>0.033575</td>\n",
              "    </tr>\n",
              "    <tr>\n",
              "      <th>international_reputation</th>\n",
              "      <td>-0.856914</td>\n",
              "    </tr>\n",
              "    <tr>\n",
              "      <th>team_position</th>\n",
              "      <td>0.033293</td>\n",
              "    </tr>\n",
              "    <tr>\n",
              "      <th>wage_eur</th>\n",
              "      <td>0.031813</td>\n",
              "    </tr>\n",
              "    <tr>\n",
              "      <th>overall2</th>\n",
              "      <td>0.145044</td>\n",
              "    </tr>\n",
              "  </tbody>\n",
              "</table>\n",
              "</div>"
            ],
            "text/plain": [
              "                          Coefficient\n",
              "overall                    -20.276969\n",
              "age                         -0.521463\n",
              "potential                   -0.124059\n",
              "preferred_foot               0.033575\n",
              "international_reputation    -0.856914\n",
              "team_position                0.033293\n",
              "wage_eur                     0.031813\n",
              "overall2                     0.145044"
            ]
          },
          "metadata": {
            "tags": []
          },
          "execution_count": 367
        }
      ]
    },
    {
      "cell_type": "code",
      "metadata": {
        "id": "RdAKIuqHeVXv"
      },
      "source": [
        "pred_plus = linear_reg_plus.predict(X_test)"
      ],
      "execution_count": 368,
      "outputs": []
    },
    {
      "cell_type": "code",
      "metadata": {
        "colab": {
          "base_uri": "https://localhost:8080/",
          "height": 281
        },
        "id": "0hi7S5UDgT0c",
        "outputId": "8187d329-40d0-49b3-b6d9-9040353d1d23"
      },
      "source": [
        "plt.scatter(Y_test, pred_plus)\n",
        "plt.xlabel(\"value_eur\")\n",
        "plt.ylabel(\"value_eur estimado\")\n",
        "None"
      ],
      "execution_count": 369,
      "outputs": [
        {
          "output_type": "display_data",
          "data": {
            "image/png": "[encoded data removed]",
            "text/plain": [
              "<Figure size 432x288 with 1 Axes>"
            ]
          },
          "metadata": {
            "tags": [],
            "needs_background": "light"
          }
        }
      ]
    },
    {
      "cell_type": "markdown",
      "metadata": {
        "id": "m18vYVsSsPel"
      },
      "source": [
        "Se observa que hay la tendencia a una línea recta de pendiente casi 1, lo cual muestra que la predicción es  buena."
      ]
    },
    {
      "cell_type": "code",
      "metadata": {
        "colab": {
          "base_uri": "https://localhost:8080/",
          "height": 0
        },
        "id": "QuJX6tpdggNK",
        "outputId": "0dce3963-6d6a-4174-f3ae-0d061973edc3"
      },
      "source": [
        "print('Mean Absolute Error (MAE):', mean_absolute_error(Y_test, pred_plus))\n",
        "print('Mean Squared Error (MSE):', mean_squared_error(Y_test, pred_plus))\n",
        "print('Root Mean Squared Error (RMSE):', np.sqrt(mean_squared_error(Y_test, pred_plus)))"
      ],
      "execution_count": 370,
      "outputs": [
        {
          "output_type": "stream",
          "text": [
            "Mean Absolute Error (MAE): 1.3890261317152401\n",
            "Mean Squared Error (MSE): 5.435229376963969\n",
            "Root Mean Squared Error (RMSE): 2.331357839750039\n"
          ],
          "name": "stdout"
        }
      ]
    },
    {
      "cell_type": "markdown",
      "metadata": {
        "id": "Qin0RobJiZy0"
      },
      "source": [
        "Se observa una clara mejora de las métricas del modelo. Por ejemplo, el error absoluto medio (MAE) se ha reducido a 1.39M€."
      ]
    },
    {
      "cell_type": "code",
      "metadata": {
        "colab": {
          "base_uri": "https://localhost:8080/",
          "height": 0
        },
        "id": "DwDZYhyUgrc_",
        "outputId": "a20ddd92-39a4-4023-9b7a-02c8d9641e37"
      },
      "source": [
        "r2 = r2_score(Y_test, pred_plus)\n",
        "r2"
      ],
      "execution_count": 371,
      "outputs": [
        {
          "output_type": "execute_result",
          "data": {
            "text/plain": [
              "0.9180477988280882"
            ]
          },
          "metadata": {
            "tags": []
          },
          "execution_count": 371
        }
      ]
    },
    {
      "cell_type": "markdown",
      "metadata": {
        "id": "j940xbJ3i4TU"
      },
      "source": [
        "**Hay una clara mejora con el nuevo modelo**. R cuadrado pasa de 0.85 a 0.92, con lo cual podemos afirmar que nuestro modelo se ajusta bastante bien. El 91.8% de la variación de la variable dependiente (value_eur = precio del jugador) es explicada por el modelo."
      ]
    },
    {
      "cell_type": "code",
      "metadata": {
        "colab": {
          "base_uri": "https://localhost:8080/",
          "height": 0
        },
        "id": "GMqCP10Cg2kY",
        "outputId": "1b55c34c-b3d7-4543-bedf-721054fb2f10"
      },
      "source": [
        "pearson_coef, p_value = stats.pearsonr(Y_test, pred_plus)\n",
        "print(\"Pearson Correlation Coefficient: \", pearson_coef, \"and a P-value of:\", p_value)"
      ],
      "execution_count": 372,
      "outputs": [
        {
          "output_type": "stream",
          "text": [
            "Pearson Correlation Coefficient:  0.9594035805621718 and a P-value of: 0.0\n"
          ],
          "name": "stdout"
        }
      ]
    },
    {
      "cell_type": "markdown",
      "metadata": {
        "id": "43xOMaaejT6M"
      },
      "source": [
        "Se confirma la mejora con el coeficiente de correlación de Pearson que pasa de 0.93 a 0.96 y P-value = 0"
      ]
    },
    {
      "cell_type": "markdown",
      "metadata": {
        "id": "rEhTrBF_kHW5"
      },
      "source": [
        "He probado incluso un tercer modelo incluyendo las variables age^2 o wage_eur^2, pero no se mejora el resultado."
      ]
    },
    {
      "cell_type": "markdown",
      "metadata": {
        "id": "xM39WMdLjd1w"
      },
      "source": [
        "Por tanto, **el nuevo modelo linear_reg_plus será nuestro modelo final**. "
      ]
    },
    {
      "cell_type": "markdown",
      "metadata": {
        "id": "y08LRQ_cwvU7"
      },
      "source": [
        "# **Parte 2 - Clasificación con Logistic regression.**\n",
        "\n",
        "El objetivo en este caso será clasificar un jugador según su rango de precio (value_eur), creando para ello una nueva variable (categoría) **nivel_precio**. <br>\n",
        "Suponiendo que somos un inversor nos interesa clasificar los jugadores al menos en tres categorías: precio bajo (que no requiere un estudio previo), precio medio (que requiere un análisis) y precio alto (que requiere ya un estudio más detallado)"
      ]
    },
    {
      "cell_type": "markdown",
      "metadata": {
        "id": "73t1Ahr3xW47"
      },
      "source": [
        "Partiendo del dataframe df_fifa inicial, creamos un dataframe df_fifa_log con una nueva variable (categoría) nivel de precio a partir de value_eur: bajo (0-5 M€), medio (5-20 M€) y alto (>20 M€). <br>\n",
        "Ya no usaremos la variable value_eur y la nueva variable nivel_precio será el target de la logistic regression."
      ]
    },
    {
      "cell_type": "code",
      "metadata": {
        "id": "jZ3YCTReyzE8"
      },
      "source": [
        "df_fifa_log = df_fifa.copy()"
      ],
      "execution_count": 373,
      "outputs": []
    },
    {
      "cell_type": "code",
      "metadata": {
        "id": "yZwbaPSLPPfN"
      },
      "source": [
        "def nivel_precio(valor):\n",
        "  if valor < 5:\n",
        "    return 0\n",
        "  elif valor < 20:\n",
        "    return 1\n",
        "  else:\n",
        "    return 2 "
      ],
      "execution_count": 374,
      "outputs": []
    },
    {
      "cell_type": "code",
      "metadata": {
        "id": "Y2g5k4fVz3rx"
      },
      "source": [
        "df_fifa_log['nivel_precio'] = df_fifa_log['value_eur'].map(nivel_precio)"
      ],
      "execution_count": 375,
      "outputs": []
    },
    {
      "cell_type": "markdown",
      "metadata": {
        "id": "sKxpl1_D5MVr"
      },
      "source": [
        "Vemos la distribución de jugadores por categoria de nivel_precio. La mayoría están lógicamente en las categorías 0 (bajo) y 1 (medio-bajo)."
      ]
    },
    {
      "cell_type": "code",
      "metadata": {
        "colab": {
          "base_uri": "https://localhost:8080/",
          "height": 0
        },
        "id": "S2sd3vLk3hY0",
        "outputId": "03d1ac5e-79c4-48c4-82c0-87dcde0a0470"
      },
      "source": [
        "df_fifa_log.groupby(['nivel_precio'], as_index=True)['nivel_precio'].count()"
      ],
      "execution_count": 376,
      "outputs": [
        {
          "output_type": "execute_result",
          "data": {
            "text/plain": [
              "nivel_precio\n",
              "0    3135\n",
              "1    2085\n",
              "2     322\n",
              "Name: nivel_precio, dtype: int64"
            ]
          },
          "metadata": {
            "tags": []
          },
          "execution_count": 376
        }
      ]
    },
    {
      "cell_type": "code",
      "metadata": {
        "colab": {
          "base_uri": "https://localhost:8080/",
          "height": 241
        },
        "id": "WmSLhBhu5l8J",
        "outputId": "7ef8867e-bcbc-478a-c9fc-e98b6bcbe857"
      },
      "source": [
        "df_fifa_log.head()"
      ],
      "execution_count": 377,
      "outputs": [
        {
          "output_type": "execute_result",
          "data": {
            "text/html": [
              "<div>\n",
              "<style scoped>\n",
              "    .dataframe tbody tr th:only-of-type {\n",
              "        vertical-align: middle;\n",
              "    }\n",
              "\n",
              "    .dataframe tbody tr th {\n",
              "        vertical-align: top;\n",
              "    }\n",
              "\n",
              "    .dataframe thead th {\n",
              "        text-align: right;\n",
              "    }\n",
              "</style>\n",
              "<table border=\"1\" class=\"dataframe\">\n",
              "  <thead>\n",
              "    <tr style=\"text-align: right;\">\n",
              "      <th></th>\n",
              "      <th>short_name</th>\n",
              "      <th>overall</th>\n",
              "      <th>age</th>\n",
              "      <th>potential</th>\n",
              "      <th>preferred_foot</th>\n",
              "      <th>international_reputation</th>\n",
              "      <th>team_position</th>\n",
              "      <th>wage_eur</th>\n",
              "      <th>value_eur</th>\n",
              "      <th>nivel_precio</th>\n",
              "    </tr>\n",
              "  </thead>\n",
              "  <tbody>\n",
              "    <tr>\n",
              "      <th>0</th>\n",
              "      <td>L. Messi</td>\n",
              "      <td>94</td>\n",
              "      <td>32</td>\n",
              "      <td>94</td>\n",
              "      <td>1</td>\n",
              "      <td>5</td>\n",
              "      <td>27</td>\n",
              "      <td>565.0</td>\n",
              "      <td>95.5</td>\n",
              "      <td>2</td>\n",
              "    </tr>\n",
              "    <tr>\n",
              "      <th>1</th>\n",
              "      <td>Cristiano Ronaldo</td>\n",
              "      <td>93</td>\n",
              "      <td>34</td>\n",
              "      <td>93</td>\n",
              "      <td>0</td>\n",
              "      <td>5</td>\n",
              "      <td>26</td>\n",
              "      <td>405.0</td>\n",
              "      <td>58.5</td>\n",
              "      <td>2</td>\n",
              "    </tr>\n",
              "    <tr>\n",
              "      <th>2</th>\n",
              "      <td>Neymar Jr</td>\n",
              "      <td>92</td>\n",
              "      <td>27</td>\n",
              "      <td>92</td>\n",
              "      <td>0</td>\n",
              "      <td>5</td>\n",
              "      <td>20</td>\n",
              "      <td>290.0</td>\n",
              "      <td>105.5</td>\n",
              "      <td>2</td>\n",
              "    </tr>\n",
              "    <tr>\n",
              "      <th>3</th>\n",
              "      <td>J. Oblak</td>\n",
              "      <td>91</td>\n",
              "      <td>26</td>\n",
              "      <td>93</td>\n",
              "      <td>0</td>\n",
              "      <td>3</td>\n",
              "      <td>12</td>\n",
              "      <td>125.0</td>\n",
              "      <td>77.5</td>\n",
              "      <td>2</td>\n",
              "    </tr>\n",
              "    <tr>\n",
              "      <th>4</th>\n",
              "      <td>E. Hazard</td>\n",
              "      <td>91</td>\n",
              "      <td>28</td>\n",
              "      <td>91</td>\n",
              "      <td>0</td>\n",
              "      <td>4</td>\n",
              "      <td>26</td>\n",
              "      <td>470.0</td>\n",
              "      <td>90.0</td>\n",
              "      <td>2</td>\n",
              "    </tr>\n",
              "  </tbody>\n",
              "</table>\n",
              "</div>"
            ],
            "text/plain": [
              "          short_name  overall  age  ...  wage_eur  value_eur  nivel_precio\n",
              "0           L. Messi       94   32  ...     565.0       95.5             2\n",
              "1  Cristiano Ronaldo       93   34  ...     405.0       58.5             2\n",
              "2          Neymar Jr       92   27  ...     290.0      105.5             2\n",
              "3           J. Oblak       91   26  ...     125.0       77.5             2\n",
              "4          E. Hazard       91   28  ...     470.0       90.0             2\n",
              "\n",
              "[5 rows x 10 columns]"
            ]
          },
          "metadata": {
            "tags": []
          },
          "execution_count": 377
        }
      ]
    },
    {
      "cell_type": "markdown",
      "metadata": {
        "id": "6DHsjybq7D3q"
      },
      "source": [
        "### **REGRESIÓN LOGÍSTICA**"
      ]
    },
    {
      "cell_type": "code",
      "metadata": {
        "id": "41WKBTdL79L_"
      },
      "source": [
        "# Creamos la variable predictora 'Xlog' y la variable target 'Ylog'\n",
        "# Xlog contiene todas las caracteristicas excepto short_name, value_eur y nivel_precio \n",
        "Xlog = df_fifa_log.drop(['short_name', 'value_eur', 'nivel_precio'], axis = 1)\n",
        "Ylog = df_fifa_log['nivel_precio']"
      ],
      "execution_count": 378,
      "outputs": []
    },
    {
      "cell_type": "code",
      "metadata": {
        "colab": {
          "base_uri": "https://localhost:8080/",
          "height": 0
        },
        "id": "s74BtyQo8je9",
        "outputId": "7de96920-c700-4aa2-edbc-4eac499f8d8e"
      },
      "source": [
        "print(Xlog.shape)\n",
        "print(Ylog.shape)"
      ],
      "execution_count": 379,
      "outputs": [
        {
          "output_type": "stream",
          "text": [
            "(5542, 7)\n",
            "(5542,)\n"
          ],
          "name": "stdout"
        }
      ]
    },
    {
      "cell_type": "code",
      "metadata": {
        "id": "cxS8vI12IfBz"
      },
      "source": [
        "# Scaling features for logistic regression\n",
        "from sklearn.preprocessing import MinMaxScaler\n",
        "scaler = MinMaxScaler()\n",
        "Xlog[Xlog.columns] = scaler.fit_transform(Xlog[Xlog.columns])"
      ],
      "execution_count": 380,
      "outputs": []
    },
    {
      "cell_type": "code",
      "metadata": {
        "colab": {
          "base_uri": "https://localhost:8080/",
          "height": 0
        },
        "id": "8FbNoKIl8sgf",
        "outputId": "02ff6a65-5583-45c0-fcc7-a5e75d6a9f73"
      },
      "source": [
        "Xlog_train, Xlog_test, Ylog_train, Ylog_test = train_test_split(Xlog,\n",
        "                                                    Ylog, \n",
        "                                                    test_size=0.3,\n",
        "                                                    random_state=0)\n",
        "\n",
        "# Xlog_train con el 70% de los datos\n",
        "print(Xlog_train.shape)\n",
        "# Xlog_test contains 30% de los datos\n",
        "print(Xlog_test.shape)"
      ],
      "execution_count": 381,
      "outputs": [
        {
          "output_type": "stream",
          "text": [
            "(3879, 7)\n",
            "(1663, 7)\n"
          ],
          "name": "stdout"
        }
      ]
    },
    {
      "cell_type": "code",
      "metadata": {
        "colab": {
          "base_uri": "https://localhost:8080/",
          "height": 204
        },
        "id": "t2i0dOeB84se",
        "outputId": "093ca902-4856-4ca4-ed42-2513740e1e98"
      },
      "source": [
        "Xlog_train.head()"
      ],
      "execution_count": 382,
      "outputs": [
        {
          "output_type": "execute_result",
          "data": {
            "text/html": [
              "<div>\n",
              "<style scoped>\n",
              "    .dataframe tbody tr th:only-of-type {\n",
              "        vertical-align: middle;\n",
              "    }\n",
              "\n",
              "    .dataframe tbody tr th {\n",
              "        vertical-align: top;\n",
              "    }\n",
              "\n",
              "    .dataframe thead th {\n",
              "        text-align: right;\n",
              "    }\n",
              "</style>\n",
              "<table border=\"1\" class=\"dataframe\">\n",
              "  <thead>\n",
              "    <tr style=\"text-align: right;\">\n",
              "      <th></th>\n",
              "      <th>overall</th>\n",
              "      <th>age</th>\n",
              "      <th>potential</th>\n",
              "      <th>preferred_foot</th>\n",
              "      <th>international_reputation</th>\n",
              "      <th>team_position</th>\n",
              "      <th>wage_eur</th>\n",
              "    </tr>\n",
              "  </thead>\n",
              "  <tbody>\n",
              "    <tr>\n",
              "      <th>4514</th>\n",
              "      <td>0.041667</td>\n",
              "      <td>0.80</td>\n",
              "      <td>0.04</td>\n",
              "      <td>0.0</td>\n",
              "      <td>0.00</td>\n",
              "      <td>0.428571</td>\n",
              "      <td>0.007092</td>\n",
              "    </tr>\n",
              "    <tr>\n",
              "      <th>5597</th>\n",
              "      <td>0.000000</td>\n",
              "      <td>0.52</td>\n",
              "      <td>0.00</td>\n",
              "      <td>1.0</td>\n",
              "      <td>0.00</td>\n",
              "      <td>0.178571</td>\n",
              "      <td>0.008865</td>\n",
              "    </tr>\n",
              "    <tr>\n",
              "      <th>774</th>\n",
              "      <td>0.333333</td>\n",
              "      <td>0.24</td>\n",
              "      <td>0.56</td>\n",
              "      <td>0.0</td>\n",
              "      <td>0.25</td>\n",
              "      <td>0.321429</td>\n",
              "      <td>0.040780</td>\n",
              "    </tr>\n",
              "    <tr>\n",
              "      <th>1723</th>\n",
              "      <td>0.208333</td>\n",
              "      <td>0.32</td>\n",
              "      <td>0.40</td>\n",
              "      <td>0.0</td>\n",
              "      <td>0.00</td>\n",
              "      <td>0.142857</td>\n",
              "      <td>0.035461</td>\n",
              "    </tr>\n",
              "    <tr>\n",
              "      <th>1052</th>\n",
              "      <td>0.291667</td>\n",
              "      <td>0.28</td>\n",
              "      <td>0.48</td>\n",
              "      <td>0.0</td>\n",
              "      <td>0.25</td>\n",
              "      <td>0.535714</td>\n",
              "      <td>0.078014</td>\n",
              "    </tr>\n",
              "  </tbody>\n",
              "</table>\n",
              "</div>"
            ],
            "text/plain": [
              "       overall   age  ...  team_position  wage_eur\n",
              "4514  0.041667  0.80  ...       0.428571  0.007092\n",
              "5597  0.000000  0.52  ...       0.178571  0.008865\n",
              "774   0.333333  0.24  ...       0.321429  0.040780\n",
              "1723  0.208333  0.32  ...       0.142857  0.035461\n",
              "1052  0.291667  0.28  ...       0.535714  0.078014\n",
              "\n",
              "[5 rows x 7 columns]"
            ]
          },
          "metadata": {
            "tags": []
          },
          "execution_count": 382
        }
      ]
    },
    {
      "cell_type": "markdown",
      "metadata": {
        "id": "wICGW9Ry7PNm"
      },
      "source": [
        "**Creating and training model (logistic regression)**"
      ]
    },
    {
      "cell_type": "code",
      "metadata": {
        "id": "jA4AaLWv65eE"
      },
      "source": [
        "from sklearn.linear_model import LogisticRegression"
      ],
      "execution_count": 383,
      "outputs": []
    },
    {
      "cell_type": "code",
      "metadata": {
        "id": "J3CPe2aE7cTs"
      },
      "source": [
        "logisticRegr = LogisticRegression(max_iter = 1000)"
      ],
      "execution_count": 384,
      "outputs": []
    },
    {
      "cell_type": "code",
      "metadata": {
        "colab": {
          "base_uri": "https://localhost:8080/",
          "height": 0
        },
        "id": "OrHPzxrF7kUz",
        "outputId": "2300d3b6-e100-43e1-b476-052f67c0d1b0"
      },
      "source": [
        "logisticRegr.fit(Xlog_train, Ylog_train)"
      ],
      "execution_count": 385,
      "outputs": [
        {
          "output_type": "execute_result",
          "data": {
            "text/plain": [
              "LogisticRegression(C=1.0, class_weight=None, dual=False, fit_intercept=True,\n",
              "                   intercept_scaling=1, l1_ratio=None, max_iter=1000,\n",
              "                   multi_class='auto', n_jobs=None, penalty='l2',\n",
              "                   random_state=None, solver='lbfgs', tol=0.0001, verbose=0,\n",
              "                   warm_start=False)"
            ]
          },
          "metadata": {
            "tags": []
          },
          "execution_count": 385
        }
      ]
    },
    {
      "cell_type": "code",
      "metadata": {
        "id": "sMnehPa3KPTS"
      },
      "source": [
        "predictions = logisticRegr.predict(Xlog_test)"
      ],
      "execution_count": 386,
      "outputs": []
    },
    {
      "cell_type": "code",
      "metadata": {
        "colab": {
          "base_uri": "https://localhost:8080/",
          "height": 0
        },
        "id": "6GzmzC-HKV1S",
        "outputId": "51abb761-93f8-47a4-facd-dbc86a69b2e6"
      },
      "source": [
        "score = logisticRegr.score(Xlog_test, Ylog_test)\n",
        "score"
      ],
      "execution_count": 387,
      "outputs": [
        {
          "output_type": "execute_result",
          "data": {
            "text/plain": [
              "0.920625375826819"
            ]
          },
          "metadata": {
            "tags": []
          },
          "execution_count": 387
        }
      ]
    },
    {
      "cell_type": "code",
      "metadata": {
        "colab": {
          "base_uri": "https://localhost:8080/",
          "height": 0
        },
        "id": "byquhDjCKlyN",
        "outputId": "b17040af-687c-4258-f9c0-6897b4d025b2"
      },
      "source": [
        "# confusion matrix\n",
        "from sklearn import metrics\n",
        "cm = metrics.confusion_matrix(Ylog_test, predictions)\n",
        "print(cm)"
      ],
      "execution_count": 388,
      "outputs": [
        {
          "output_type": "stream",
          "text": [
            "[[917  25   0]\n",
            " [ 72 549   5]\n",
            " [  0  30  65]]\n"
          ],
          "name": "stdout"
        }
      ]
    },
    {
      "cell_type": "markdown",
      "metadata": {
        "id": "liSdEAKS5Z58"
      },
      "source": [
        "El modelo tiene un accuracy de 0.92, que es un valor bastante bueno. El acierto es especialmente alto para las categorías 0 (0-5M€) y 1 (5-20M€) que son las mayoritarias. En ningún caso un jugador es asignado a una categoría que no sea la correcta o al menos una adyacente."
      ]
    },
    {
      "cell_type": "code",
      "metadata": {
        "colab": {
          "base_uri": "https://localhost:8080/",
          "height": 526
        },
        "id": "0_XVX4ouK108",
        "outputId": "d6d63b2e-0bc9-4468-f8f0-c1ede14a8c92"
      },
      "source": [
        "plt.figure(figsize=(9,9))\n",
        "sns.heatmap(cm, annot=True, \n",
        "            fmt=\".0f\", \n",
        "            linewidths=.5, \n",
        "            square = True, \n",
        "            cmap = 'Reds_r');\n",
        "plt.ylabel('Actual label');\n",
        "plt.xlabel('Predicted label');\n",
        "all_sample_title = 'Accuracy Score: {0}'.format(score)\n",
        "plt.title(all_sample_title, size = 15);"
      ],
      "execution_count": 389,
      "outputs": [
        {
          "output_type": "display_data",
          "data": {
            "image/png": "[encoded data removed]",
            "text/plain": [
              "<Figure size 648x648 with 2 Axes>"
            ]
          },
          "metadata": {
            "tags": [],
            "needs_background": "light"
          }
        }
      ]
    }
  ]
}